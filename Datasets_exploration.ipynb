{
 "cells": [
  {
   "cell_type": "code",
   "execution_count": 74,
   "metadata": {
    "executionInfo": {
     "elapsed": 1731,
     "status": "ok",
     "timestamp": 1697703315104,
     "user": {
      "displayName": "Hadrien MORAND",
      "userId": "03014692039406239214"
     },
     "user_tz": -120
    },
    "id": "QZoprpdW7a0U"
   },
   "outputs": [],
   "source": [
    "import os\n",
    "import numpy as np\n",
    "import pandas as pd\n",
    "import matplotlib.pyplot as plt\n",
    "import seaborn as sns\n"
   ]
  },
  {
   "cell_type": "markdown",
   "metadata": {
    "id": "FC9bpYbj7sDb"
   },
   "source": [
    "# **Set up** (only run this in in <font color='red'>Colab</font>)"
   ]
  },
  {
   "cell_type": "code",
   "execution_count": 6,
   "metadata": {
    "colab": {
     "base_uri": "https://localhost:8080/"
    },
    "executionInfo": {
     "elapsed": 19351,
     "status": "ok",
     "timestamp": 1697703334783,
     "user": {
      "displayName": "Hadrien MORAND",
      "userId": "03014692039406239214"
     },
     "user_tz": -120
    },
    "id": "hKRPb4jm5ASI",
    "outputId": "433cf284-94c0-43ee-b060-bf458ae9e4fd"
   },
   "outputs": [
    {
     "name": "stdout",
     "output_type": "stream",
     "text": [
      "Mounted at /gdrive\n",
      "/gdrive\n"
     ]
    }
   ],
   "source": [
    "#from google.colab import drive\n",
    "#drive.mount('/gdrive')\n",
    "#%cd /gdrive\n"
   ]
  },
  {
   "cell_type": "markdown",
   "metadata": {
    "id": "OOXZLLSE71UV"
   },
   "source": [
    "## **Mounting drive**"
   ]
  },
  {
   "cell_type": "markdown",
   "metadata": {
    "id": "bLQhFPzg7v9H"
   },
   "source": [
    "## **Mounting drive - Hadrien**"
   ]
  },
  {
   "cell_type": "code",
   "execution_count": 7,
   "metadata": {
    "colab": {
     "base_uri": "https://localhost:8080/"
    },
    "executionInfo": {
     "elapsed": 320,
     "status": "ok",
     "timestamp": 1697703335100,
     "user": {
      "displayName": "Hadrien MORAND",
      "userId": "03014692039406239214"
     },
     "user_tz": -120
    },
    "id": "elwaztg45aoU",
    "outputId": "cb63c55c-e8c6-4ea6-dcf2-a1518d8255aa"
   },
   "outputs": [
    {
     "name": "stdout",
     "output_type": "stream",
     "text": [
      "/gdrive/MyDrive/Relational_Databases/Project - Group 15/Modelling/Datasets\n"
     ]
    }
   ],
   "source": [
    "#%cd MyDrive/Relational_Databases/Project - Group 15/Modelling/Datasets\n"
   ]
  },
  {
   "cell_type": "markdown",
   "metadata": {
    "id": "Ma1oFqGh7zkG"
   },
   "source": [
    "## **Loading the files in dataframes**"
   ]
  },
  {
   "cell_type": "code",
   "execution_count": 75,
   "metadata": {
    "executionInfo": {
     "elapsed": 212,
     "status": "ok",
     "timestamp": 1697704157300,
     "user": {
      "displayName": "Hadrien MORAND",
      "userId": "03014692039406239214"
     },
     "user_tz": -120
    },
    "id": "e1YCKqFA5nMz"
   },
   "outputs": [],
   "source": [
    "airlines_df = pd.read_csv('Datasets/originals/airlines.csv', sep='\\t')\n",
    "aircrafts_df = pd.read_csv('Datasets/originals/aircrafts.csv', sep='\\t')\n",
    "hotels_df = pd.read_csv('Datasets/originals/hotels.csv', sep='\\t')\n",
    "airports_df = pd.read_csv('Datasets/originals/airports.csv',sep='\\t')\n",
    "customers_df = pd.read_csv('Datasets/originals/customers.csv', sep='\\t')\n",
    "flight_bookings_df = pd.read_csv('Datasets/originals/flight_bookings.csv', sep='\\t')\n",
    "hotel_bookings_df = pd.read_csv('Datasets/originals/hotel_bookings.csv', sep='\\t')\n"
   ]
  },
  {
   "cell_type": "markdown",
   "metadata": {
    "id": "ZGHmNsyQ-C74"
   },
   "source": [
    "# **Data exploration**"
   ]
  },
  {
   "cell_type": "markdown",
   "metadata": {
    "id": "8T_n6SAA-FSq"
   },
   "source": [
    "## **Airlines**"
   ]
  },
  {
   "cell_type": "markdown",
   "metadata": {
    "id": "G84gLwLb-cww"
   },
   "source": [
    "**Table overview**"
   ]
  },
  {
   "cell_type": "code",
   "execution_count": 76,
   "metadata": {
    "colab": {
     "base_uri": "https://localhost:8080/",
     "height": 363
    },
    "executionInfo": {
     "elapsed": 346,
     "status": "ok",
     "timestamp": 1697703901748,
     "user": {
      "displayName": "Hadrien MORAND",
      "userId": "03014692039406239214"
     },
     "user_tz": -120
    },
    "id": "qF2ng4-Z7OFp",
    "outputId": "f7a464ee-45e1-4b01-d134-c186491bcfc2"
   },
   "outputs": [
    {
     "data": {
      "text/html": [
       "<div>\n",
       "<style scoped>\n",
       "    .dataframe tbody tr th:only-of-type {\n",
       "        vertical-align: middle;\n",
       "    }\n",
       "\n",
       "    .dataframe tbody tr th {\n",
       "        vertical-align: top;\n",
       "    }\n",
       "\n",
       "    .dataframe thead th {\n",
       "        text-align: right;\n",
       "    }\n",
       "</style>\n",
       "<table border=\"1\" class=\"dataframe\">\n",
       "  <thead>\n",
       "    <tr style=\"text-align: right;\">\n",
       "      <th></th>\n",
       "      <th>airline_id</th>\n",
       "      <th>airline_name</th>\n",
       "      <th>country</th>\n",
       "      <th>airline_iata</th>\n",
       "      <th>airline_icao</th>\n",
       "      <th>alias</th>\n",
       "    </tr>\n",
       "  </thead>\n",
       "  <tbody>\n",
       "    <tr>\n",
       "      <th>0</th>\n",
       "      <td>3</td>\n",
       "      <td>1Time Airline</td>\n",
       "      <td>South Africa</td>\n",
       "      <td>1T</td>\n",
       "      <td>RNX</td>\n",
       "      <td>NaN</td>\n",
       "    </tr>\n",
       "    <tr>\n",
       "      <th>1</th>\n",
       "      <td>10</td>\n",
       "      <td>40-Mile Air</td>\n",
       "      <td>United States</td>\n",
       "      <td>Q5</td>\n",
       "      <td>MLA</td>\n",
       "      <td>NaN</td>\n",
       "    </tr>\n",
       "    <tr>\n",
       "      <th>2</th>\n",
       "      <td>13</td>\n",
       "      <td>Ansett Australia</td>\n",
       "      <td>Australia</td>\n",
       "      <td>AN</td>\n",
       "      <td>AAA</td>\n",
       "      <td>NaN</td>\n",
       "    </tr>\n",
       "    <tr>\n",
       "      <th>3</th>\n",
       "      <td>14</td>\n",
       "      <td>Abacus International</td>\n",
       "      <td>Singapore</td>\n",
       "      <td>1B</td>\n",
       "      <td>NaN</td>\n",
       "      <td>NaN</td>\n",
       "    </tr>\n",
       "    <tr>\n",
       "      <th>4</th>\n",
       "      <td>21</td>\n",
       "      <td>Aigle Azur</td>\n",
       "      <td>France</td>\n",
       "      <td>ZI</td>\n",
       "      <td>AAF</td>\n",
       "      <td>NaN</td>\n",
       "    </tr>\n",
       "    <tr>\n",
       "      <th>5</th>\n",
       "      <td>22</td>\n",
       "      <td>Aloha Airlines</td>\n",
       "      <td>United States</td>\n",
       "      <td>AQ</td>\n",
       "      <td>AAH</td>\n",
       "      <td>NaN</td>\n",
       "    </tr>\n",
       "    <tr>\n",
       "      <th>6</th>\n",
       "      <td>24</td>\n",
       "      <td>American Airlines</td>\n",
       "      <td>United States</td>\n",
       "      <td>AA</td>\n",
       "      <td>AAL</td>\n",
       "      <td>NaN</td>\n",
       "    </tr>\n",
       "    <tr>\n",
       "      <th>7</th>\n",
       "      <td>28</td>\n",
       "      <td>Asiana Airlines</td>\n",
       "      <td>Republic of Korea</td>\n",
       "      <td>OZ</td>\n",
       "      <td>AAR</td>\n",
       "      <td>NaN</td>\n",
       "    </tr>\n",
       "    <tr>\n",
       "      <th>8</th>\n",
       "      <td>29</td>\n",
       "      <td>Askari Aviation</td>\n",
       "      <td>Pakistan</td>\n",
       "      <td>4K</td>\n",
       "      <td>AAS</td>\n",
       "      <td>NaN</td>\n",
       "    </tr>\n",
       "    <tr>\n",
       "      <th>9</th>\n",
       "      <td>32</td>\n",
       "      <td>Afriqiyah Airways</td>\n",
       "      <td>Libya</td>\n",
       "      <td>8U</td>\n",
       "      <td>AAW</td>\n",
       "      <td>NaN</td>\n",
       "    </tr>\n",
       "  </tbody>\n",
       "</table>\n",
       "</div>"
      ],
      "text/plain": [
       "   airline_id          airline_name            country airline_iata   \n",
       "0           3         1Time Airline       South Africa           1T  \\\n",
       "1          10           40-Mile Air      United States           Q5   \n",
       "2          13      Ansett Australia          Australia           AN   \n",
       "3          14  Abacus International          Singapore           1B   \n",
       "4          21            Aigle Azur             France           ZI   \n",
       "5          22        Aloha Airlines      United States           AQ   \n",
       "6          24     American Airlines      United States           AA   \n",
       "7          28       Asiana Airlines  Republic of Korea           OZ   \n",
       "8          29       Askari Aviation           Pakistan           4K   \n",
       "9          32     Afriqiyah Airways              Libya           8U   \n",
       "\n",
       "  airline_icao alias  \n",
       "0          RNX   NaN  \n",
       "1          MLA   NaN  \n",
       "2          AAA   NaN  \n",
       "3          NaN   NaN  \n",
       "4          AAF   NaN  \n",
       "5          AAH   NaN  \n",
       "6          AAL   NaN  \n",
       "7          AAR   NaN  \n",
       "8          AAS   NaN  \n",
       "9          AAW   NaN  "
      ]
     },
     "execution_count": 76,
     "metadata": {},
     "output_type": "execute_result"
    }
   ],
   "source": [
    "airlines_df.head(10)\n"
   ]
  },
  {
   "cell_type": "markdown",
   "metadata": {
    "id": "QWg1v5tX-aAt"
   },
   "source": [
    "**Data types of the table**"
   ]
  },
  {
   "cell_type": "code",
   "execution_count": 77,
   "metadata": {
    "colab": {
     "base_uri": "https://localhost:8080/"
    },
    "executionInfo": {
     "elapsed": 3,
     "status": "ok",
     "timestamp": 1694699707554,
     "user": {
      "displayName": "Hadrien MORAND",
      "userId": "03014692039406239214"
     },
     "user_tz": -120
    },
    "id": "MYhaiqYs-JXx",
    "outputId": "b62dbe4c-761c-47b4-eaa7-99d7ad5b7c38"
   },
   "outputs": [
    {
     "data": {
      "text/plain": [
       "airline_id       int64\n",
       "airline_name    object\n",
       "country         object\n",
       "airline_iata    object\n",
       "airline_icao    object\n",
       "alias           object\n",
       "dtype: object"
      ]
     },
     "execution_count": 77,
     "metadata": {},
     "output_type": "execute_result"
    }
   ],
   "source": [
    "airlines_df.dtypes\n"
   ]
  },
  {
   "cell_type": "code",
   "execution_count": 78,
   "metadata": {},
   "outputs": [],
   "source": [
    "airlines_df.columns = ['airline_id', 'airline_name', 'country', 'icao_code', 'iata_code', 'alias']"
   ]
  },
  {
   "cell_type": "code",
   "execution_count": 79,
   "metadata": {
    "executionInfo": {
     "elapsed": 197,
     "status": "ok",
     "timestamp": 1697703941274,
     "user": {
      "displayName": "Hadrien MORAND",
      "userId": "03014692039406239214"
     },
     "user_tz": -120
    },
    "id": "EgP0PbmDCfr0"
   },
   "outputs": [
    {
     "data": {
      "text/html": [
       "<div>\n",
       "<style scoped>\n",
       "    .dataframe tbody tr th:only-of-type {\n",
       "        vertical-align: middle;\n",
       "    }\n",
       "\n",
       "    .dataframe tbody tr th {\n",
       "        vertical-align: top;\n",
       "    }\n",
       "\n",
       "    .dataframe thead th {\n",
       "        text-align: right;\n",
       "    }\n",
       "</style>\n",
       "<table border=\"1\" class=\"dataframe\">\n",
       "  <thead>\n",
       "    <tr style=\"text-align: right;\">\n",
       "      <th></th>\n",
       "      <th>airline_id</th>\n",
       "      <th>airline_name</th>\n",
       "      <th>country</th>\n",
       "      <th>icao_code</th>\n",
       "      <th>iata_code</th>\n",
       "      <th>alias</th>\n",
       "    </tr>\n",
       "  </thead>\n",
       "  <tbody>\n",
       "    <tr>\n",
       "      <th>0</th>\n",
       "      <td>3</td>\n",
       "      <td>1Time Airline</td>\n",
       "      <td>South Africa</td>\n",
       "      <td>1T</td>\n",
       "      <td>RNX</td>\n",
       "      <td>NaN</td>\n",
       "    </tr>\n",
       "    <tr>\n",
       "      <th>1</th>\n",
       "      <td>10</td>\n",
       "      <td>40-Mile Air</td>\n",
       "      <td>United States</td>\n",
       "      <td>Q5</td>\n",
       "      <td>MLA</td>\n",
       "      <td>NaN</td>\n",
       "    </tr>\n",
       "    <tr>\n",
       "      <th>2</th>\n",
       "      <td>13</td>\n",
       "      <td>Ansett Australia</td>\n",
       "      <td>Australia</td>\n",
       "      <td>AN</td>\n",
       "      <td>AAA</td>\n",
       "      <td>NaN</td>\n",
       "    </tr>\n",
       "    <tr>\n",
       "      <th>3</th>\n",
       "      <td>14</td>\n",
       "      <td>Abacus International</td>\n",
       "      <td>Singapore</td>\n",
       "      <td>1B</td>\n",
       "      <td>NaN</td>\n",
       "      <td>NaN</td>\n",
       "    </tr>\n",
       "    <tr>\n",
       "      <th>4</th>\n",
       "      <td>21</td>\n",
       "      <td>Aigle Azur</td>\n",
       "      <td>France</td>\n",
       "      <td>ZI</td>\n",
       "      <td>AAF</td>\n",
       "      <td>NaN</td>\n",
       "    </tr>\n",
       "    <tr>\n",
       "      <th>...</th>\n",
       "      <td>...</td>\n",
       "      <td>...</td>\n",
       "      <td>...</td>\n",
       "      <td>...</td>\n",
       "      <td>...</td>\n",
       "      <td>...</td>\n",
       "    </tr>\n",
       "    <tr>\n",
       "      <th>1246</th>\n",
       "      <td>21179</td>\n",
       "      <td>Thai Vietjet Air</td>\n",
       "      <td>Thailand</td>\n",
       "      <td>NaN</td>\n",
       "      <td>TVJ</td>\n",
       "      <td>NaN</td>\n",
       "    </tr>\n",
       "    <tr>\n",
       "      <th>1247</th>\n",
       "      <td>21248</td>\n",
       "      <td>GX Airlines</td>\n",
       "      <td>China</td>\n",
       "      <td>NaN</td>\n",
       "      <td>CBG</td>\n",
       "      <td>NaN</td>\n",
       "    </tr>\n",
       "    <tr>\n",
       "      <th>1248</th>\n",
       "      <td>21268</td>\n",
       "      <td>Jetgo Australia</td>\n",
       "      <td>Australia</td>\n",
       "      <td>JG</td>\n",
       "      <td>NaN</td>\n",
       "      <td>NaN</td>\n",
       "    </tr>\n",
       "    <tr>\n",
       "      <th>1249</th>\n",
       "      <td>21270</td>\n",
       "      <td>Air Carnival</td>\n",
       "      <td>India</td>\n",
       "      <td>2S</td>\n",
       "      <td>NaN</td>\n",
       "      <td>NaN</td>\n",
       "    </tr>\n",
       "    <tr>\n",
       "      <th>1250</th>\n",
       "      <td>21317</td>\n",
       "      <td>Svyaz Rossiya</td>\n",
       "      <td>Russia</td>\n",
       "      <td>7R</td>\n",
       "      <td>SJM</td>\n",
       "      <td>Russian Commuter</td>\n",
       "    </tr>\n",
       "  </tbody>\n",
       "</table>\n",
       "<p>1251 rows × 6 columns</p>\n",
       "</div>"
      ],
      "text/plain": [
       "      airline_id          airline_name        country icao_code iata_code   \n",
       "0              3         1Time Airline   South Africa        1T       RNX  \\\n",
       "1             10           40-Mile Air  United States        Q5       MLA   \n",
       "2             13      Ansett Australia      Australia        AN       AAA   \n",
       "3             14  Abacus International      Singapore        1B       NaN   \n",
       "4             21            Aigle Azur         France        ZI       AAF   \n",
       "...          ...                   ...            ...       ...       ...   \n",
       "1246       21179      Thai Vietjet Air       Thailand       NaN       TVJ   \n",
       "1247       21248           GX Airlines          China       NaN       CBG   \n",
       "1248       21268       Jetgo Australia      Australia        JG       NaN   \n",
       "1249       21270          Air Carnival          India        2S       NaN   \n",
       "1250       21317         Svyaz Rossiya         Russia        7R       SJM   \n",
       "\n",
       "                 alias  \n",
       "0                  NaN  \n",
       "1                  NaN  \n",
       "2                  NaN  \n",
       "3                  NaN  \n",
       "4                  NaN  \n",
       "...                ...  \n",
       "1246               NaN  \n",
       "1247               NaN  \n",
       "1248               NaN  \n",
       "1249               NaN  \n",
       "1250  Russian Commuter  \n",
       "\n",
       "[1251 rows x 6 columns]"
      ]
     },
     "execution_count": 79,
     "metadata": {},
     "output_type": "execute_result"
    }
   ],
   "source": [
    "airlines_df"
   ]
  },
  {
   "cell_type": "code",
   "execution_count": 80,
   "metadata": {},
   "outputs": [],
   "source": [
    "airlines_df.to_csv('Datasets/cleaned/airlines.csv', index=False, sep='\\t')"
   ]
  },
  {
   "cell_type": "markdown",
   "metadata": {
    "id": "CR4Y_7De-lR9"
   },
   "source": [
    "## **Aircrafts**"
   ]
  },
  {
   "cell_type": "markdown",
   "metadata": {
    "id": "nAI2jdZv-lR9"
   },
   "source": [
    "**Table overview**"
   ]
  },
  {
   "cell_type": "code",
   "execution_count": 81,
   "metadata": {
    "colab": {
     "base_uri": "https://localhost:8080/",
     "height": 363
    },
    "executionInfo": {
     "elapsed": 222,
     "status": "ok",
     "timestamp": 1697711566685,
     "user": {
      "displayName": "Hadrien MORAND",
      "userId": "03014692039406239214"
     },
     "user_tz": -120
    },
    "id": "sF8r_SW0-lR-",
    "outputId": "bba30aee-db11-4714-9361-8ef364c596b7"
   },
   "outputs": [
    {
     "data": {
      "text/html": [
       "<div>\n",
       "<style scoped>\n",
       "    .dataframe tbody tr th:only-of-type {\n",
       "        vertical-align: middle;\n",
       "    }\n",
       "\n",
       "    .dataframe tbody tr th {\n",
       "        vertical-align: top;\n",
       "    }\n",
       "\n",
       "    .dataframe thead th {\n",
       "        text-align: right;\n",
       "    }\n",
       "</style>\n",
       "<table border=\"1\" class=\"dataframe\">\n",
       "  <thead>\n",
       "    <tr style=\"text-align: right;\">\n",
       "      <th></th>\n",
       "      <th>aircraft_name</th>\n",
       "      <th>aircraft_iata</th>\n",
       "      <th>aircraft_icao</th>\n",
       "    </tr>\n",
       "  </thead>\n",
       "  <tbody>\n",
       "    <tr>\n",
       "      <th>0</th>\n",
       "      <td>Aerospatiale (Nord) 262</td>\n",
       "      <td>ND2</td>\n",
       "      <td>N262</td>\n",
       "    </tr>\n",
       "    <tr>\n",
       "      <th>1</th>\n",
       "      <td>Aerospatiale (Sud Aviation) Se.210 Caravelle</td>\n",
       "      <td>CRV</td>\n",
       "      <td>S210</td>\n",
       "    </tr>\n",
       "    <tr>\n",
       "      <th>2</th>\n",
       "      <td>Aerospatiale SN.601 Corvette</td>\n",
       "      <td>NDC</td>\n",
       "      <td>S601</td>\n",
       "    </tr>\n",
       "    <tr>\n",
       "      <th>3</th>\n",
       "      <td>Aerospatiale/Alenia ATR 42-300</td>\n",
       "      <td>AT4</td>\n",
       "      <td>AT43</td>\n",
       "    </tr>\n",
       "    <tr>\n",
       "      <th>4</th>\n",
       "      <td>Aerospatiale/Alenia ATR 42-500</td>\n",
       "      <td>AT5</td>\n",
       "      <td>AT45</td>\n",
       "    </tr>\n",
       "    <tr>\n",
       "      <th>5</th>\n",
       "      <td>Aerospatiale/Alenia ATR 42-600</td>\n",
       "      <td>ATR</td>\n",
       "      <td>AT46</td>\n",
       "    </tr>\n",
       "    <tr>\n",
       "      <th>6</th>\n",
       "      <td>Aerospatiale/Alenia ATR 72</td>\n",
       "      <td>AT7</td>\n",
       "      <td>AT72</td>\n",
       "    </tr>\n",
       "    <tr>\n",
       "      <th>7</th>\n",
       "      <td>Airbus A300</td>\n",
       "      <td>AB3</td>\n",
       "      <td>A30B</td>\n",
       "    </tr>\n",
       "    <tr>\n",
       "      <th>8</th>\n",
       "      <td>Airbus A300-600</td>\n",
       "      <td>AB6</td>\n",
       "      <td>A306</td>\n",
       "    </tr>\n",
       "    <tr>\n",
       "      <th>9</th>\n",
       "      <td>Airbus A300-600ST Super Transporter / Beluga</td>\n",
       "      <td>ABB</td>\n",
       "      <td>A3ST</td>\n",
       "    </tr>\n",
       "  </tbody>\n",
       "</table>\n",
       "</div>"
      ],
      "text/plain": [
       "                                  aircraft_name aircraft_iata aircraft_icao\n",
       "0                       Aerospatiale (Nord) 262           ND2          N262\n",
       "1  Aerospatiale (Sud Aviation) Se.210 Caravelle           CRV          S210\n",
       "2                  Aerospatiale SN.601 Corvette           NDC          S601\n",
       "3                Aerospatiale/Alenia ATR 42-300           AT4          AT43\n",
       "4                Aerospatiale/Alenia ATR 42-500           AT5          AT45\n",
       "5                Aerospatiale/Alenia ATR 42-600           ATR          AT46\n",
       "6                    Aerospatiale/Alenia ATR 72           AT7          AT72\n",
       "7                                   Airbus A300           AB3          A30B\n",
       "8                               Airbus A300-600           AB6          A306\n",
       "9  Airbus A300-600ST Super Transporter / Beluga           ABB          A3ST"
      ]
     },
     "execution_count": 81,
     "metadata": {},
     "output_type": "execute_result"
    }
   ],
   "source": [
    "aircrafts_df.head(10)"
   ]
  },
  {
   "cell_type": "markdown",
   "metadata": {
    "id": "jyaNrWAJ-lR_"
   },
   "source": [
    "**Data types of the table**"
   ]
  },
  {
   "cell_type": "code",
   "execution_count": 82,
   "metadata": {
    "colab": {
     "base_uri": "https://localhost:8080/"
    },
    "executionInfo": {
     "elapsed": 210,
     "status": "ok",
     "timestamp": 1697711568738,
     "user": {
      "displayName": "Hadrien MORAND",
      "userId": "03014692039406239214"
     },
     "user_tz": -120
    },
    "id": "nMkCy3eQ-lR_",
    "outputId": "35fbd126-b368-4c0a-d2b5-835d513ecf4c"
   },
   "outputs": [
    {
     "data": {
      "text/plain": [
       "aircraft_name    object\n",
       "aircraft_iata    object\n",
       "aircraft_icao    object\n",
       "dtype: object"
      ]
     },
     "execution_count": 82,
     "metadata": {},
     "output_type": "execute_result"
    }
   ],
   "source": [
    "aircrafts_df.dtypes\n"
   ]
  },
  {
   "cell_type": "markdown",
   "metadata": {
    "id": "tolPty-JZL-l"
   },
   "source": [
    "**Addition of the id column to aircraft**"
   ]
  },
  {
   "cell_type": "code",
   "execution_count": 83,
   "metadata": {
    "colab": {
     "base_uri": "https://localhost:8080/",
     "height": 424
    },
    "executionInfo": {
     "elapsed": 218,
     "status": "ok",
     "timestamp": 1697711572696,
     "user": {
      "displayName": "Hadrien MORAND",
      "userId": "03014692039406239214"
     },
     "user_tz": -120
    },
    "id": "HFyNmB2gZLlk",
    "outputId": "44efa58c-3584-4daf-b46f-bc5804491e24"
   },
   "outputs": [
    {
     "data": {
      "text/html": [
       "<div>\n",
       "<style scoped>\n",
       "    .dataframe tbody tr th:only-of-type {\n",
       "        vertical-align: middle;\n",
       "    }\n",
       "\n",
       "    .dataframe tbody tr th {\n",
       "        vertical-align: top;\n",
       "    }\n",
       "\n",
       "    .dataframe thead th {\n",
       "        text-align: right;\n",
       "    }\n",
       "</style>\n",
       "<table border=\"1\" class=\"dataframe\">\n",
       "  <thead>\n",
       "    <tr style=\"text-align: right;\">\n",
       "      <th></th>\n",
       "      <th>aircraft_name</th>\n",
       "      <th>aircraft_iata</th>\n",
       "      <th>aircraft_icao</th>\n",
       "      <th>aircraft_id</th>\n",
       "    </tr>\n",
       "  </thead>\n",
       "  <tbody>\n",
       "    <tr>\n",
       "      <th>0</th>\n",
       "      <td>Aerospatiale (Nord) 262</td>\n",
       "      <td>ND2</td>\n",
       "      <td>N262</td>\n",
       "      <td>0</td>\n",
       "    </tr>\n",
       "    <tr>\n",
       "      <th>1</th>\n",
       "      <td>Aerospatiale (Sud Aviation) Se.210 Caravelle</td>\n",
       "      <td>CRV</td>\n",
       "      <td>S210</td>\n",
       "      <td>1</td>\n",
       "    </tr>\n",
       "    <tr>\n",
       "      <th>2</th>\n",
       "      <td>Aerospatiale SN.601 Corvette</td>\n",
       "      <td>NDC</td>\n",
       "      <td>S601</td>\n",
       "      <td>2</td>\n",
       "    </tr>\n",
       "    <tr>\n",
       "      <th>3</th>\n",
       "      <td>Aerospatiale/Alenia ATR 42-300</td>\n",
       "      <td>AT4</td>\n",
       "      <td>AT43</td>\n",
       "      <td>3</td>\n",
       "    </tr>\n",
       "    <tr>\n",
       "      <th>4</th>\n",
       "      <td>Aerospatiale/Alenia ATR 42-500</td>\n",
       "      <td>AT5</td>\n",
       "      <td>AT45</td>\n",
       "      <td>4</td>\n",
       "    </tr>\n",
       "    <tr>\n",
       "      <th>...</th>\n",
       "      <td>...</td>\n",
       "      <td>...</td>\n",
       "      <td>...</td>\n",
       "      <td>...</td>\n",
       "    </tr>\n",
       "    <tr>\n",
       "      <th>241</th>\n",
       "      <td>Tupolev Tu-144</td>\n",
       "      <td>NaN</td>\n",
       "      <td>T144</td>\n",
       "      <td>241</td>\n",
       "    </tr>\n",
       "    <tr>\n",
       "      <th>242</th>\n",
       "      <td>Tupolev Tu-154</td>\n",
       "      <td>TU5</td>\n",
       "      <td>T154</td>\n",
       "      <td>242</td>\n",
       "    </tr>\n",
       "    <tr>\n",
       "      <th>243</th>\n",
       "      <td>Tupolev Tu-204</td>\n",
       "      <td>T20</td>\n",
       "      <td>T204</td>\n",
       "      <td>243</td>\n",
       "    </tr>\n",
       "    <tr>\n",
       "      <th>244</th>\n",
       "      <td>Yakovlev Yak-40</td>\n",
       "      <td>YK4</td>\n",
       "      <td>YK40</td>\n",
       "      <td>244</td>\n",
       "    </tr>\n",
       "    <tr>\n",
       "      <th>245</th>\n",
       "      <td>Yakovlev Yak-42</td>\n",
       "      <td>YK2</td>\n",
       "      <td>YK42</td>\n",
       "      <td>245</td>\n",
       "    </tr>\n",
       "  </tbody>\n",
       "</table>\n",
       "<p>246 rows × 4 columns</p>\n",
       "</div>"
      ],
      "text/plain": [
       "                                    aircraft_name aircraft_iata aircraft_icao   \n",
       "0                         Aerospatiale (Nord) 262           ND2          N262  \\\n",
       "1    Aerospatiale (Sud Aviation) Se.210 Caravelle           CRV          S210   \n",
       "2                    Aerospatiale SN.601 Corvette           NDC          S601   \n",
       "3                  Aerospatiale/Alenia ATR 42-300           AT4          AT43   \n",
       "4                  Aerospatiale/Alenia ATR 42-500           AT5          AT45   \n",
       "..                                            ...           ...           ...   \n",
       "241                                Tupolev Tu-144           NaN          T144   \n",
       "242                                Tupolev Tu-154           TU5          T154   \n",
       "243                                Tupolev Tu-204           T20          T204   \n",
       "244                               Yakovlev Yak-40           YK4          YK40   \n",
       "245                               Yakovlev Yak-42           YK2          YK42   \n",
       "\n",
       "     aircraft_id  \n",
       "0              0  \n",
       "1              1  \n",
       "2              2  \n",
       "3              3  \n",
       "4              4  \n",
       "..           ...  \n",
       "241          241  \n",
       "242          242  \n",
       "243          243  \n",
       "244          244  \n",
       "245          245  \n",
       "\n",
       "[246 rows x 4 columns]"
      ]
     },
     "execution_count": 83,
     "metadata": {},
     "output_type": "execute_result"
    }
   ],
   "source": [
    "aircrafts_df['aircraft_id'] = aircrafts_df.index\n",
    "aircrafts_df\n"
   ]
  },
  {
   "cell_type": "code",
   "execution_count": 84,
   "metadata": {},
   "outputs": [
    {
     "data": {
      "text/html": [
       "<div>\n",
       "<style scoped>\n",
       "    .dataframe tbody tr th:only-of-type {\n",
       "        vertical-align: middle;\n",
       "    }\n",
       "\n",
       "    .dataframe tbody tr th {\n",
       "        vertical-align: top;\n",
       "    }\n",
       "\n",
       "    .dataframe thead th {\n",
       "        text-align: right;\n",
       "    }\n",
       "</style>\n",
       "<table border=\"1\" class=\"dataframe\">\n",
       "  <thead>\n",
       "    <tr style=\"text-align: right;\">\n",
       "      <th></th>\n",
       "      <th>aircraft_id</th>\n",
       "      <th>aircraft_name</th>\n",
       "      <th>iata_code</th>\n",
       "      <th>icao_code</th>\n",
       "    </tr>\n",
       "  </thead>\n",
       "  <tbody>\n",
       "    <tr>\n",
       "      <th>0</th>\n",
       "      <td>0</td>\n",
       "      <td>Aerospatiale (Nord) 262</td>\n",
       "      <td>ND2</td>\n",
       "      <td>N262</td>\n",
       "    </tr>\n",
       "    <tr>\n",
       "      <th>1</th>\n",
       "      <td>1</td>\n",
       "      <td>Aerospatiale (Sud Aviation) Se.210 Caravelle</td>\n",
       "      <td>CRV</td>\n",
       "      <td>S210</td>\n",
       "    </tr>\n",
       "    <tr>\n",
       "      <th>2</th>\n",
       "      <td>2</td>\n",
       "      <td>Aerospatiale SN.601 Corvette</td>\n",
       "      <td>NDC</td>\n",
       "      <td>S601</td>\n",
       "    </tr>\n",
       "    <tr>\n",
       "      <th>3</th>\n",
       "      <td>3</td>\n",
       "      <td>Aerospatiale/Alenia ATR 42-300</td>\n",
       "      <td>AT4</td>\n",
       "      <td>AT43</td>\n",
       "    </tr>\n",
       "    <tr>\n",
       "      <th>4</th>\n",
       "      <td>4</td>\n",
       "      <td>Aerospatiale/Alenia ATR 42-500</td>\n",
       "      <td>AT5</td>\n",
       "      <td>AT45</td>\n",
       "    </tr>\n",
       "    <tr>\n",
       "      <th>...</th>\n",
       "      <td>...</td>\n",
       "      <td>...</td>\n",
       "      <td>...</td>\n",
       "      <td>...</td>\n",
       "    </tr>\n",
       "    <tr>\n",
       "      <th>241</th>\n",
       "      <td>241</td>\n",
       "      <td>Tupolev Tu-144</td>\n",
       "      <td>NaN</td>\n",
       "      <td>T144</td>\n",
       "    </tr>\n",
       "    <tr>\n",
       "      <th>242</th>\n",
       "      <td>242</td>\n",
       "      <td>Tupolev Tu-154</td>\n",
       "      <td>TU5</td>\n",
       "      <td>T154</td>\n",
       "    </tr>\n",
       "    <tr>\n",
       "      <th>243</th>\n",
       "      <td>243</td>\n",
       "      <td>Tupolev Tu-204</td>\n",
       "      <td>T20</td>\n",
       "      <td>T204</td>\n",
       "    </tr>\n",
       "    <tr>\n",
       "      <th>244</th>\n",
       "      <td>244</td>\n",
       "      <td>Yakovlev Yak-40</td>\n",
       "      <td>YK4</td>\n",
       "      <td>YK40</td>\n",
       "    </tr>\n",
       "    <tr>\n",
       "      <th>245</th>\n",
       "      <td>245</td>\n",
       "      <td>Yakovlev Yak-42</td>\n",
       "      <td>YK2</td>\n",
       "      <td>YK42</td>\n",
       "    </tr>\n",
       "  </tbody>\n",
       "</table>\n",
       "<p>246 rows × 4 columns</p>\n",
       "</div>"
      ],
      "text/plain": [
       "     aircraft_id                                 aircraft_name iata_code   \n",
       "0              0                       Aerospatiale (Nord) 262       ND2  \\\n",
       "1              1  Aerospatiale (Sud Aviation) Se.210 Caravelle       CRV   \n",
       "2              2                  Aerospatiale SN.601 Corvette       NDC   \n",
       "3              3                Aerospatiale/Alenia ATR 42-300       AT4   \n",
       "4              4                Aerospatiale/Alenia ATR 42-500       AT5   \n",
       "..           ...                                           ...       ...   \n",
       "241          241                                Tupolev Tu-144       NaN   \n",
       "242          242                                Tupolev Tu-154       TU5   \n",
       "243          243                                Tupolev Tu-204       T20   \n",
       "244          244                               Yakovlev Yak-40       YK4   \n",
       "245          245                               Yakovlev Yak-42       YK2   \n",
       "\n",
       "    icao_code  \n",
       "0        N262  \n",
       "1        S210  \n",
       "2        S601  \n",
       "3        AT43  \n",
       "4        AT45  \n",
       "..        ...  \n",
       "241      T144  \n",
       "242      T154  \n",
       "243      T204  \n",
       "244      YK40  \n",
       "245      YK42  \n",
       "\n",
       "[246 rows x 4 columns]"
      ]
     },
     "execution_count": 84,
     "metadata": {},
     "output_type": "execute_result"
    }
   ],
   "source": [
    "aircrafts_df.columns = ['aircraft_name', 'iata_code', 'icao_code', 'aircraft_id']\n",
    "\n",
    "aircrafts_df = aircrafts_df[['aircraft_id', 'aircraft_name', 'iata_code', 'icao_code']]\n",
    "\n",
    "aircrafts_df"
   ]
  },
  {
   "cell_type": "markdown",
   "metadata": {
    "id": "YqSP1ny5aPOv"
   },
   "source": [
    "**Export corrected dataset**"
   ]
  },
  {
   "cell_type": "code",
   "execution_count": 85,
   "metadata": {
    "executionInfo": {
     "elapsed": 220,
     "status": "ok",
     "timestamp": 1697703966042,
     "user": {
      "displayName": "Hadrien MORAND",
      "userId": "03014692039406239214"
     },
     "user_tz": -120
    },
    "id": "G-x742dFenSx"
   },
   "outputs": [],
   "source": [
    "aircrafts_df.to_csv('Datasets/cleaned/aircrafts.csv', index=False, sep='\\t')\n"
   ]
  },
  {
   "cell_type": "markdown",
   "metadata": {
    "id": "QWr3_G4D-u2I"
   },
   "source": [
    "## **Hotels**"
   ]
  },
  {
   "cell_type": "markdown",
   "metadata": {
    "id": "BaqRZOQc-u2J"
   },
   "source": [
    "**Table overview**"
   ]
  },
  {
   "cell_type": "code",
   "execution_count": 86,
   "metadata": {
    "colab": {
     "base_uri": "https://localhost:8080/",
     "height": 467
    },
    "executionInfo": {
     "elapsed": 209,
     "status": "ok",
     "timestamp": 1697703974755,
     "user": {
      "displayName": "Hadrien MORAND",
      "userId": "03014692039406239214"
     },
     "user_tz": -120
    },
    "id": "ZwYtLbli-u2J",
    "outputId": "58ec0c4b-4591-492d-cfe9-ea9eca99a398"
   },
   "outputs": [
    {
     "data": {
      "text/html": [
       "<div>\n",
       "<style scoped>\n",
       "    .dataframe tbody tr th:only-of-type {\n",
       "        vertical-align: middle;\n",
       "    }\n",
       "\n",
       "    .dataframe tbody tr th {\n",
       "        vertical-align: top;\n",
       "    }\n",
       "\n",
       "    .dataframe thead th {\n",
       "        text-align: right;\n",
       "    }\n",
       "</style>\n",
       "<table border=\"1\" class=\"dataframe\">\n",
       "  <thead>\n",
       "    <tr style=\"text-align: right;\">\n",
       "      <th></th>\n",
       "      <th>hotel_id</th>\n",
       "      <th>hotel_name</th>\n",
       "      <th>hotel_address</th>\n",
       "      <th>city</th>\n",
       "      <th>country</th>\n",
       "      <th>hotel_score</th>\n",
       "    </tr>\n",
       "  </thead>\n",
       "  <tbody>\n",
       "    <tr>\n",
       "      <th>0</th>\n",
       "      <td>0</td>\n",
       "      <td>Hotel Arena</td>\n",
       "      <td>'55, ''s-Gravesandestraat, Oosterparkbuurt, Am...</td>\n",
       "      <td>Amsterdam</td>\n",
       "      <td>Netherlands</td>\n",
       "      <td>7.7</td>\n",
       "    </tr>\n",
       "    <tr>\n",
       "      <th>1</th>\n",
       "      <td>1</td>\n",
       "      <td>K K Hotel George</td>\n",
       "      <td>'Amsterdam Hotel London, 7, Trebovir Road, Ear...</td>\n",
       "      <td>London</td>\n",
       "      <td>United Kingdom</td>\n",
       "      <td>8.5</td>\n",
       "    </tr>\n",
       "    <tr>\n",
       "      <th>2</th>\n",
       "      <td>2</td>\n",
       "      <td>Apex Temple Court Hotel</td>\n",
       "      <td>162, Fleet Street, Temple, City of London, Gre...</td>\n",
       "      <td>London</td>\n",
       "      <td>United Kingdom</td>\n",
       "      <td>9.2</td>\n",
       "    </tr>\n",
       "    <tr>\n",
       "      <th>3</th>\n",
       "      <td>3</td>\n",
       "      <td>The Park Grand London Paddington</td>\n",
       "      <td>'Park Grand London Paddington, 1, Queen''s Gar...</td>\n",
       "      <td>London</td>\n",
       "      <td>United Kingdom</td>\n",
       "      <td>7.7</td>\n",
       "    </tr>\n",
       "    <tr>\n",
       "      <th>4</th>\n",
       "      <td>4</td>\n",
       "      <td>Monhotel Lounge SPA</td>\n",
       "      <td>'3, Rue d''Argentine, Quartier de Chaillot, 16...</td>\n",
       "      <td>Paris</td>\n",
       "      <td>France</td>\n",
       "      <td>8.4</td>\n",
       "    </tr>\n",
       "    <tr>\n",
       "      <th>5</th>\n",
       "      <td>5</td>\n",
       "      <td>Kube Hotel Ice Bar</td>\n",
       "      <td>'Kube Hotel, 5, Passage Ruelle, Quartier de la...</td>\n",
       "      <td>Paris</td>\n",
       "      <td>France</td>\n",
       "      <td>7.2</td>\n",
       "    </tr>\n",
       "    <tr>\n",
       "      <th>6</th>\n",
       "      <td>6</td>\n",
       "      <td>The Principal London</td>\n",
       "      <td>Kimpton Fitzroy London Hotel, Russell Square, ...</td>\n",
       "      <td>London</td>\n",
       "      <td>United Kingdom</td>\n",
       "      <td>8.0</td>\n",
       "    </tr>\n",
       "    <tr>\n",
       "      <th>7</th>\n",
       "      <td>7</td>\n",
       "      <td>Park Plaza County Hall London</td>\n",
       "      <td>Park Plaza, 1, Addington Street, Lambeth, Lond...</td>\n",
       "      <td>London</td>\n",
       "      <td>United Kingdom</td>\n",
       "      <td>8.4</td>\n",
       "    </tr>\n",
       "    <tr>\n",
       "      <th>8</th>\n",
       "      <td>8</td>\n",
       "      <td>One Aldwych</td>\n",
       "      <td>One Aldwych, 1, Aldwych, St Clement Danes, Cov...</td>\n",
       "      <td>London</td>\n",
       "      <td>United Kingdom</td>\n",
       "      <td>9.2</td>\n",
       "    </tr>\n",
       "    <tr>\n",
       "      <th>9</th>\n",
       "      <td>9</td>\n",
       "      <td>Splendid Etoile</td>\n",
       "      <td>1, Avenue Carnot, Quartier des Ternes, 17th Ar...</td>\n",
       "      <td>Paris</td>\n",
       "      <td>France</td>\n",
       "      <td>8.9</td>\n",
       "    </tr>\n",
       "  </tbody>\n",
       "</table>\n",
       "</div>"
      ],
      "text/plain": [
       "   hotel_id                        hotel_name   \n",
       "0         0                       Hotel Arena  \\\n",
       "1         1                  K K Hotel George   \n",
       "2         2           Apex Temple Court Hotel   \n",
       "3         3  The Park Grand London Paddington   \n",
       "4         4               Monhotel Lounge SPA   \n",
       "5         5                Kube Hotel Ice Bar   \n",
       "6         6              The Principal London   \n",
       "7         7     Park Plaza County Hall London   \n",
       "8         8                       One Aldwych   \n",
       "9         9                   Splendid Etoile   \n",
       "\n",
       "                                       hotel_address       city   \n",
       "0  '55, ''s-Gravesandestraat, Oosterparkbuurt, Am...  Amsterdam  \\\n",
       "1  'Amsterdam Hotel London, 7, Trebovir Road, Ear...     London   \n",
       "2  162, Fleet Street, Temple, City of London, Gre...     London   \n",
       "3  'Park Grand London Paddington, 1, Queen''s Gar...     London   \n",
       "4  '3, Rue d''Argentine, Quartier de Chaillot, 16...      Paris   \n",
       "5  'Kube Hotel, 5, Passage Ruelle, Quartier de la...      Paris   \n",
       "6  Kimpton Fitzroy London Hotel, Russell Square, ...     London   \n",
       "7  Park Plaza, 1, Addington Street, Lambeth, Lond...     London   \n",
       "8  One Aldwych, 1, Aldwych, St Clement Danes, Cov...     London   \n",
       "9  1, Avenue Carnot, Quartier des Ternes, 17th Ar...      Paris   \n",
       "\n",
       "          country  hotel_score  \n",
       "0     Netherlands          7.7  \n",
       "1  United Kingdom          8.5  \n",
       "2  United Kingdom          9.2  \n",
       "3  United Kingdom          7.7  \n",
       "4          France          8.4  \n",
       "5          France          7.2  \n",
       "6  United Kingdom          8.0  \n",
       "7  United Kingdom          8.4  \n",
       "8  United Kingdom          9.2  \n",
       "9          France          8.9  "
      ]
     },
     "execution_count": 86,
     "metadata": {},
     "output_type": "execute_result"
    }
   ],
   "source": [
    "hotels_df.head(10)\n"
   ]
  },
  {
   "cell_type": "markdown",
   "metadata": {
    "id": "UYU1ZfT0-u2J"
   },
   "source": [
    "**Data types of the table**"
   ]
  },
  {
   "cell_type": "code",
   "execution_count": 87,
   "metadata": {
    "colab": {
     "base_uri": "https://localhost:8080/"
    },
    "executionInfo": {
     "elapsed": 220,
     "status": "ok",
     "timestamp": 1697703982804,
     "user": {
      "displayName": "Hadrien MORAND",
      "userId": "03014692039406239214"
     },
     "user_tz": -120
    },
    "id": "eeuhpEYB-u2K",
    "outputId": "1c267ec2-3342-4eda-8218-b895908ec01d"
   },
   "outputs": [
    {
     "data": {
      "text/plain": [
       "hotel_id           int64\n",
       "hotel_name        object\n",
       "hotel_address     object\n",
       "city              object\n",
       "country           object\n",
       "hotel_score      float64\n",
       "dtype: object"
      ]
     },
     "execution_count": 87,
     "metadata": {},
     "output_type": "execute_result"
    }
   ],
   "source": [
    "hotels_df.dtypes\n"
   ]
  },
  {
   "cell_type": "code",
   "execution_count": 88,
   "metadata": {
    "executionInfo": {
     "elapsed": 273,
     "status": "ok",
     "timestamp": 1697704014000,
     "user": {
      "displayName": "Hadrien MORAND",
      "userId": "03014692039406239214"
     },
     "user_tz": -120
    },
    "id": "8TBPSYahCwgE"
   },
   "outputs": [],
   "source": [
    "hotels_df.to_csv('Datasets/cleaned/hotels.csv', index=False, sep='\\t')\n"
   ]
  },
  {
   "cell_type": "markdown",
   "metadata": {
    "id": "yuACMSBg-2Uk"
   },
   "source": [
    "## **Airports**"
   ]
  },
  {
   "cell_type": "markdown",
   "metadata": {
    "id": "SOClUP2J-2Uk"
   },
   "source": [
    "**Table overview**"
   ]
  },
  {
   "cell_type": "code",
   "execution_count": 89,
   "metadata": {
    "colab": {
     "base_uri": "https://localhost:8080/",
     "height": 363
    },
    "executionInfo": {
     "elapsed": 305,
     "status": "ok",
     "timestamp": 1694699847782,
     "user": {
      "displayName": "Hadrien MORAND",
      "userId": "03014692039406239214"
     },
     "user_tz": -120
    },
    "id": "L3Vr4frD-2Uk",
    "outputId": "259ba2c7-99dc-4adc-ffae-6311f3f821ee"
   },
   "outputs": [
    {
     "data": {
      "text/html": [
       "<div>\n",
       "<style scoped>\n",
       "    .dataframe tbody tr th:only-of-type {\n",
       "        vertical-align: middle;\n",
       "    }\n",
       "\n",
       "    .dataframe tbody tr th {\n",
       "        vertical-align: top;\n",
       "    }\n",
       "\n",
       "    .dataframe thead th {\n",
       "        text-align: right;\n",
       "    }\n",
       "</style>\n",
       "<table border=\"1\" class=\"dataframe\">\n",
       "  <thead>\n",
       "    <tr style=\"text-align: right;\">\n",
       "      <th></th>\n",
       "      <th>airport_id</th>\n",
       "      <th>airport_name</th>\n",
       "      <th>city</th>\n",
       "      <th>country</th>\n",
       "      <th>airport_iata</th>\n",
       "      <th>airport_icao</th>\n",
       "      <th>latitude</th>\n",
       "      <th>longitude</th>\n",
       "    </tr>\n",
       "  </thead>\n",
       "  <tbody>\n",
       "    <tr>\n",
       "      <th>0</th>\n",
       "      <td>1</td>\n",
       "      <td>Goroka Airport</td>\n",
       "      <td>Goroka</td>\n",
       "      <td>Papua New Guinea</td>\n",
       "      <td>GKA</td>\n",
       "      <td>AYGA</td>\n",
       "      <td>-6.081690</td>\n",
       "      <td>145.391998</td>\n",
       "    </tr>\n",
       "    <tr>\n",
       "      <th>1</th>\n",
       "      <td>2</td>\n",
       "      <td>Madang Airport</td>\n",
       "      <td>Madang</td>\n",
       "      <td>Papua New Guinea</td>\n",
       "      <td>MAG</td>\n",
       "      <td>AYMD</td>\n",
       "      <td>-5.207080</td>\n",
       "      <td>145.789001</td>\n",
       "    </tr>\n",
       "    <tr>\n",
       "      <th>2</th>\n",
       "      <td>3</td>\n",
       "      <td>Mount Hagen Kagamuga Airport</td>\n",
       "      <td>Mount Hagen</td>\n",
       "      <td>Papua New Guinea</td>\n",
       "      <td>HGU</td>\n",
       "      <td>AYMH</td>\n",
       "      <td>-5.826790</td>\n",
       "      <td>144.296005</td>\n",
       "    </tr>\n",
       "    <tr>\n",
       "      <th>3</th>\n",
       "      <td>4</td>\n",
       "      <td>Nadzab Airport</td>\n",
       "      <td>Nadzab</td>\n",
       "      <td>Papua New Guinea</td>\n",
       "      <td>LAE</td>\n",
       "      <td>AYNZ</td>\n",
       "      <td>-6.569803</td>\n",
       "      <td>146.725977</td>\n",
       "    </tr>\n",
       "    <tr>\n",
       "      <th>4</th>\n",
       "      <td>5</td>\n",
       "      <td>Port Moresby Jacksons International Airport</td>\n",
       "      <td>Port Moresby</td>\n",
       "      <td>Papua New Guinea</td>\n",
       "      <td>POM</td>\n",
       "      <td>AYPY</td>\n",
       "      <td>-9.443380</td>\n",
       "      <td>147.220001</td>\n",
       "    </tr>\n",
       "    <tr>\n",
       "      <th>5</th>\n",
       "      <td>6</td>\n",
       "      <td>Wewak International Airport</td>\n",
       "      <td>Wewak</td>\n",
       "      <td>Papua New Guinea</td>\n",
       "      <td>WWK</td>\n",
       "      <td>AYWK</td>\n",
       "      <td>-3.583830</td>\n",
       "      <td>143.669006</td>\n",
       "    </tr>\n",
       "    <tr>\n",
       "      <th>6</th>\n",
       "      <td>7</td>\n",
       "      <td>Narsarsuaq Airport</td>\n",
       "      <td>Narssarssuaq</td>\n",
       "      <td>Greenland</td>\n",
       "      <td>UAK</td>\n",
       "      <td>BGBW</td>\n",
       "      <td>61.160500</td>\n",
       "      <td>-45.425999</td>\n",
       "    </tr>\n",
       "    <tr>\n",
       "      <th>7</th>\n",
       "      <td>8</td>\n",
       "      <td>Godthaab / Nuuk Airport</td>\n",
       "      <td>Godthaab</td>\n",
       "      <td>Greenland</td>\n",
       "      <td>GOH</td>\n",
       "      <td>BGGH</td>\n",
       "      <td>64.190903</td>\n",
       "      <td>-51.678101</td>\n",
       "    </tr>\n",
       "    <tr>\n",
       "      <th>8</th>\n",
       "      <td>9</td>\n",
       "      <td>Kangerlussuaq Airport</td>\n",
       "      <td>Sondrestrom</td>\n",
       "      <td>Greenland</td>\n",
       "      <td>SFJ</td>\n",
       "      <td>BGSF</td>\n",
       "      <td>67.012222</td>\n",
       "      <td>-50.711603</td>\n",
       "    </tr>\n",
       "    <tr>\n",
       "      <th>9</th>\n",
       "      <td>10</td>\n",
       "      <td>Thule Air Base</td>\n",
       "      <td>Thule</td>\n",
       "      <td>Greenland</td>\n",
       "      <td>THU</td>\n",
       "      <td>BGTL</td>\n",
       "      <td>76.531197</td>\n",
       "      <td>-68.703201</td>\n",
       "    </tr>\n",
       "  </tbody>\n",
       "</table>\n",
       "</div>"
      ],
      "text/plain": [
       "   airport_id                                 airport_name          city   \n",
       "0           1                               Goroka Airport        Goroka  \\\n",
       "1           2                               Madang Airport        Madang   \n",
       "2           3                 Mount Hagen Kagamuga Airport   Mount Hagen   \n",
       "3           4                               Nadzab Airport        Nadzab   \n",
       "4           5  Port Moresby Jacksons International Airport  Port Moresby   \n",
       "5           6                  Wewak International Airport         Wewak   \n",
       "6           7                           Narsarsuaq Airport  Narssarssuaq   \n",
       "7           8                      Godthaab / Nuuk Airport      Godthaab   \n",
       "8           9                        Kangerlussuaq Airport   Sondrestrom   \n",
       "9          10                               Thule Air Base         Thule   \n",
       "\n",
       "            country airport_iata airport_icao   latitude   longitude  \n",
       "0  Papua New Guinea          GKA         AYGA  -6.081690  145.391998  \n",
       "1  Papua New Guinea          MAG         AYMD  -5.207080  145.789001  \n",
       "2  Papua New Guinea          HGU         AYMH  -5.826790  144.296005  \n",
       "3  Papua New Guinea          LAE         AYNZ  -6.569803  146.725977  \n",
       "4  Papua New Guinea          POM         AYPY  -9.443380  147.220001  \n",
       "5  Papua New Guinea          WWK         AYWK  -3.583830  143.669006  \n",
       "6         Greenland          UAK         BGBW  61.160500  -45.425999  \n",
       "7         Greenland          GOH         BGGH  64.190903  -51.678101  \n",
       "8         Greenland          SFJ         BGSF  67.012222  -50.711603  \n",
       "9         Greenland          THU         BGTL  76.531197  -68.703201  "
      ]
     },
     "execution_count": 89,
     "metadata": {},
     "output_type": "execute_result"
    }
   ],
   "source": [
    "airports_df.head(10)\n"
   ]
  },
  {
   "cell_type": "markdown",
   "metadata": {
    "id": "tctELF7m-2Ul"
   },
   "source": [
    "**Data types of the table**"
   ]
  },
  {
   "cell_type": "code",
   "execution_count": 90,
   "metadata": {
    "colab": {
     "base_uri": "https://localhost:8080/"
    },
    "executionInfo": {
     "elapsed": 273,
     "status": "ok",
     "timestamp": 1694699852355,
     "user": {
      "displayName": "Hadrien MORAND",
      "userId": "03014692039406239214"
     },
     "user_tz": -120
    },
    "id": "yBbqp9bv-2Ul",
    "outputId": "96d82d4b-bc4d-4c3f-da69-c4f0a4cbd9e5"
   },
   "outputs": [
    {
     "data": {
      "text/plain": [
       "airport_id        int64\n",
       "airport_name     object\n",
       "city             object\n",
       "country          object\n",
       "airport_iata     object\n",
       "airport_icao     object\n",
       "latitude        float64\n",
       "longitude       float64\n",
       "dtype: object"
      ]
     },
     "execution_count": 90,
     "metadata": {},
     "output_type": "execute_result"
    }
   ],
   "source": [
    "airports_df.dtypes\n"
   ]
  },
  {
   "cell_type": "code",
   "execution_count": 91,
   "metadata": {},
   "outputs": [],
   "source": [
    "airports_df.columns = ['airport_id', 'airport_name', 'city', 'country', \n",
    "                       'iata_code', 'icao_code', 'latitude', 'longitude']\n",
    "\n",
    "airports_df = airports_df[['iata_code', 'airport_name', 'icao_code', \n",
    "                           'city', 'country', 'latitude', 'longitude']]"
   ]
  },
  {
   "cell_type": "code",
   "execution_count": 92,
   "metadata": {},
   "outputs": [
    {
     "data": {
      "text/html": [
       "<div>\n",
       "<style scoped>\n",
       "    .dataframe tbody tr th:only-of-type {\n",
       "        vertical-align: middle;\n",
       "    }\n",
       "\n",
       "    .dataframe tbody tr th {\n",
       "        vertical-align: top;\n",
       "    }\n",
       "\n",
       "    .dataframe thead th {\n",
       "        text-align: right;\n",
       "    }\n",
       "</style>\n",
       "<table border=\"1\" class=\"dataframe\">\n",
       "  <thead>\n",
       "    <tr style=\"text-align: right;\">\n",
       "      <th></th>\n",
       "      <th>iata_code</th>\n",
       "      <th>airport_name</th>\n",
       "      <th>icao_code</th>\n",
       "      <th>city</th>\n",
       "      <th>country</th>\n",
       "      <th>latitude</th>\n",
       "      <th>longitude</th>\n",
       "    </tr>\n",
       "  </thead>\n",
       "  <tbody>\n",
       "    <tr>\n",
       "      <th>0</th>\n",
       "      <td>GKA</td>\n",
       "      <td>Goroka Airport</td>\n",
       "      <td>AYGA</td>\n",
       "      <td>Goroka</td>\n",
       "      <td>Papua New Guinea</td>\n",
       "      <td>-6.081690</td>\n",
       "      <td>145.391998</td>\n",
       "    </tr>\n",
       "    <tr>\n",
       "      <th>1</th>\n",
       "      <td>MAG</td>\n",
       "      <td>Madang Airport</td>\n",
       "      <td>AYMD</td>\n",
       "      <td>Madang</td>\n",
       "      <td>Papua New Guinea</td>\n",
       "      <td>-5.207080</td>\n",
       "      <td>145.789001</td>\n",
       "    </tr>\n",
       "    <tr>\n",
       "      <th>2</th>\n",
       "      <td>HGU</td>\n",
       "      <td>Mount Hagen Kagamuga Airport</td>\n",
       "      <td>AYMH</td>\n",
       "      <td>Mount Hagen</td>\n",
       "      <td>Papua New Guinea</td>\n",
       "      <td>-5.826790</td>\n",
       "      <td>144.296005</td>\n",
       "    </tr>\n",
       "    <tr>\n",
       "      <th>3</th>\n",
       "      <td>LAE</td>\n",
       "      <td>Nadzab Airport</td>\n",
       "      <td>AYNZ</td>\n",
       "      <td>Nadzab</td>\n",
       "      <td>Papua New Guinea</td>\n",
       "      <td>-6.569803</td>\n",
       "      <td>146.725977</td>\n",
       "    </tr>\n",
       "    <tr>\n",
       "      <th>4</th>\n",
       "      <td>POM</td>\n",
       "      <td>Port Moresby Jacksons International Airport</td>\n",
       "      <td>AYPY</td>\n",
       "      <td>Port Moresby</td>\n",
       "      <td>Papua New Guinea</td>\n",
       "      <td>-9.443380</td>\n",
       "      <td>147.220001</td>\n",
       "    </tr>\n",
       "    <tr>\n",
       "      <th>...</th>\n",
       "      <td>...</td>\n",
       "      <td>...</td>\n",
       "      <td>...</td>\n",
       "      <td>...</td>\n",
       "      <td>...</td>\n",
       "      <td>...</td>\n",
       "      <td>...</td>\n",
       "    </tr>\n",
       "    <tr>\n",
       "      <th>7638</th>\n",
       "      <td>NaN</td>\n",
       "      <td>Rogachyovo Air Base</td>\n",
       "      <td>ULDA</td>\n",
       "      <td>Belaya</td>\n",
       "      <td>Russia</td>\n",
       "      <td>71.616699</td>\n",
       "      <td>52.478298</td>\n",
       "    </tr>\n",
       "    <tr>\n",
       "      <th>7639</th>\n",
       "      <td>NaN</td>\n",
       "      <td>Ulan-Ude East Airport</td>\n",
       "      <td>XIUW</td>\n",
       "      <td>Ulan Ude</td>\n",
       "      <td>Russia</td>\n",
       "      <td>51.849998</td>\n",
       "      <td>107.737999</td>\n",
       "    </tr>\n",
       "    <tr>\n",
       "      <th>7640</th>\n",
       "      <td>NaN</td>\n",
       "      <td>Krechevitsy Air Base</td>\n",
       "      <td>ULLK</td>\n",
       "      <td>Novgorod</td>\n",
       "      <td>Russia</td>\n",
       "      <td>58.625000</td>\n",
       "      <td>31.385000</td>\n",
       "    </tr>\n",
       "    <tr>\n",
       "      <th>7641</th>\n",
       "      <td>CPO</td>\n",
       "      <td>Desierto de Atacama Airport</td>\n",
       "      <td>SCAT</td>\n",
       "      <td>Copiapo</td>\n",
       "      <td>Chile</td>\n",
       "      <td>-27.261200</td>\n",
       "      <td>-70.779198</td>\n",
       "    </tr>\n",
       "    <tr>\n",
       "      <th>7642</th>\n",
       "      <td>NaN</td>\n",
       "      <td>Melitopol Air Base</td>\n",
       "      <td>UKDM</td>\n",
       "      <td>Melitopol</td>\n",
       "      <td>Ukraine</td>\n",
       "      <td>46.880001</td>\n",
       "      <td>35.305000</td>\n",
       "    </tr>\n",
       "  </tbody>\n",
       "</table>\n",
       "<p>7643 rows × 7 columns</p>\n",
       "</div>"
      ],
      "text/plain": [
       "     iata_code                                 airport_name icao_code   \n",
       "0          GKA                               Goroka Airport      AYGA  \\\n",
       "1          MAG                               Madang Airport      AYMD   \n",
       "2          HGU                 Mount Hagen Kagamuga Airport      AYMH   \n",
       "3          LAE                               Nadzab Airport      AYNZ   \n",
       "4          POM  Port Moresby Jacksons International Airport      AYPY   \n",
       "...        ...                                          ...       ...   \n",
       "7638       NaN                          Rogachyovo Air Base      ULDA   \n",
       "7639       NaN                        Ulan-Ude East Airport      XIUW   \n",
       "7640       NaN                         Krechevitsy Air Base      ULLK   \n",
       "7641       CPO                  Desierto de Atacama Airport      SCAT   \n",
       "7642       NaN                           Melitopol Air Base      UKDM   \n",
       "\n",
       "              city           country   latitude   longitude  \n",
       "0           Goroka  Papua New Guinea  -6.081690  145.391998  \n",
       "1           Madang  Papua New Guinea  -5.207080  145.789001  \n",
       "2      Mount Hagen  Papua New Guinea  -5.826790  144.296005  \n",
       "3           Nadzab  Papua New Guinea  -6.569803  146.725977  \n",
       "4     Port Moresby  Papua New Guinea  -9.443380  147.220001  \n",
       "...            ...               ...        ...         ...  \n",
       "7638        Belaya            Russia  71.616699   52.478298  \n",
       "7639      Ulan Ude            Russia  51.849998  107.737999  \n",
       "7640      Novgorod            Russia  58.625000   31.385000  \n",
       "7641       Copiapo             Chile -27.261200  -70.779198  \n",
       "7642     Melitopol           Ukraine  46.880001   35.305000  \n",
       "\n",
       "[7643 rows x 7 columns]"
      ]
     },
     "execution_count": 92,
     "metadata": {},
     "output_type": "execute_result"
    }
   ],
   "source": [
    "airports_df"
   ]
  },
  {
   "cell_type": "code",
   "execution_count": 93,
   "metadata": {},
   "outputs": [],
   "source": [
    "airports_df.to_csv('Datasets/cleaned/airports.csv')"
   ]
  },
  {
   "cell_type": "markdown",
   "metadata": {
    "id": "46pbmnM3-6Tg"
   },
   "source": [
    "## **Customers**"
   ]
  },
  {
   "cell_type": "markdown",
   "metadata": {
    "id": "kaSwDRae-6Tg"
   },
   "source": [
    "**Table overview**"
   ]
  },
  {
   "cell_type": "code",
   "execution_count": 94,
   "metadata": {
    "colab": {
     "base_uri": "https://localhost:8080/",
     "height": 383
    },
    "executionInfo": {
     "elapsed": 220,
     "status": "ok",
     "timestamp": 1697703349358,
     "user": {
      "displayName": "Hadrien MORAND",
      "userId": "03014692039406239214"
     },
     "user_tz": -120
    },
    "id": "n_GdJuwQ-6Th",
    "outputId": "6de8df0c-d919-496d-8942-3ca5d5f63550"
   },
   "outputs": [
    {
     "data": {
      "text/html": [
       "<div>\n",
       "<style scoped>\n",
       "    .dataframe tbody tr th:only-of-type {\n",
       "        vertical-align: middle;\n",
       "    }\n",
       "\n",
       "    .dataframe tbody tr th {\n",
       "        vertical-align: top;\n",
       "    }\n",
       "\n",
       "    .dataframe thead th {\n",
       "        text-align: right;\n",
       "    }\n",
       "</style>\n",
       "<table border=\"1\" class=\"dataframe\">\n",
       "  <thead>\n",
       "    <tr style=\"text-align: right;\">\n",
       "      <th></th>\n",
       "      <th>customer_id</th>\n",
       "      <th>customer_first_name</th>\n",
       "      <th>customer_family_name</th>\n",
       "      <th>customer_gender</th>\n",
       "      <th>customer_birth_date</th>\n",
       "      <th>customer_country</th>\n",
       "      <th>customer_phone_number</th>\n",
       "    </tr>\n",
       "  </thead>\n",
       "  <tbody>\n",
       "    <tr>\n",
       "      <th>0</th>\n",
       "      <td>7529424</td>\n",
       "      <td>Tatiana</td>\n",
       "      <td>REZE</td>\n",
       "      <td>F</td>\n",
       "      <td>19/12/1976</td>\n",
       "      <td>Nigeria</td>\n",
       "      <td>2348118052430</td>\n",
       "    </tr>\n",
       "    <tr>\n",
       "      <th>1</th>\n",
       "      <td>5688420</td>\n",
       "      <td>Soizic</td>\n",
       "      <td>FOUILLET</td>\n",
       "      <td>F</td>\n",
       "      <td>22/09/1976</td>\n",
       "      <td>Tunisia</td>\n",
       "      <td>21636540047</td>\n",
       "    </tr>\n",
       "    <tr>\n",
       "      <th>2</th>\n",
       "      <td>7549035</td>\n",
       "      <td>Maude</td>\n",
       "      <td>SUPIOT</td>\n",
       "      <td>F</td>\n",
       "      <td>01/09/1980</td>\n",
       "      <td>Italy</td>\n",
       "      <td>395040038978</td>\n",
       "    </tr>\n",
       "    <tr>\n",
       "      <th>3</th>\n",
       "      <td>4119351</td>\n",
       "      <td>Gilles</td>\n",
       "      <td>GENDRY</td>\n",
       "      <td>F</td>\n",
       "      <td>07/06/1989</td>\n",
       "      <td>Turkey</td>\n",
       "      <td>908616296054</td>\n",
       "    </tr>\n",
       "    <tr>\n",
       "      <th>4</th>\n",
       "      <td>1297594</td>\n",
       "      <td>Gwenaelle</td>\n",
       "      <td>POMMIER</td>\n",
       "      <td>F</td>\n",
       "      <td>19/11/1983</td>\n",
       "      <td>Austria</td>\n",
       "      <td>439333168480</td>\n",
       "    </tr>\n",
       "    <tr>\n",
       "      <th>5</th>\n",
       "      <td>9265259</td>\n",
       "      <td>Jean-Patrice</td>\n",
       "      <td>CAILLET</td>\n",
       "      <td>M</td>\n",
       "      <td>17/01/1990</td>\n",
       "      <td>Argentina</td>\n",
       "      <td>544242909748</td>\n",
       "    </tr>\n",
       "    <tr>\n",
       "      <th>6</th>\n",
       "      <td>2531752</td>\n",
       "      <td>Christel</td>\n",
       "      <td>GOULET</td>\n",
       "      <td>M</td>\n",
       "      <td>04/08/1981</td>\n",
       "      <td>Morocco</td>\n",
       "      <td>212822671423</td>\n",
       "    </tr>\n",
       "    <tr>\n",
       "      <th>7</th>\n",
       "      <td>3185905</td>\n",
       "      <td>Marie-Annick</td>\n",
       "      <td>DIARD</td>\n",
       "      <td>F</td>\n",
       "      <td>17/11/1989</td>\n",
       "      <td>Morocco</td>\n",
       "      <td>212621463806</td>\n",
       "    </tr>\n",
       "    <tr>\n",
       "      <th>8</th>\n",
       "      <td>2445019</td>\n",
       "      <td>Annaïck</td>\n",
       "      <td>FRESNAIS</td>\n",
       "      <td>F</td>\n",
       "      <td>14/09/1975</td>\n",
       "      <td>Netherlands</td>\n",
       "      <td>31179894436</td>\n",
       "    </tr>\n",
       "    <tr>\n",
       "      <th>9</th>\n",
       "      <td>6719254</td>\n",
       "      <td>Pierre-Edouard</td>\n",
       "      <td>LEAU</td>\n",
       "      <td>M</td>\n",
       "      <td>03/05/1986</td>\n",
       "      <td>Colombia</td>\n",
       "      <td>5704043651</td>\n",
       "    </tr>\n",
       "  </tbody>\n",
       "</table>\n",
       "</div>"
      ],
      "text/plain": [
       "   customer_id customer_first_name customer_family_name customer_gender   \n",
       "0      7529424             Tatiana                 REZE               F  \\\n",
       "1      5688420              Soizic             FOUILLET               F   \n",
       "2      7549035               Maude               SUPIOT               F   \n",
       "3      4119351              Gilles               GENDRY               F   \n",
       "4      1297594           Gwenaelle              POMMIER               F   \n",
       "5      9265259        Jean-Patrice              CAILLET               M   \n",
       "6      2531752            Christel               GOULET               M   \n",
       "7      3185905        Marie-Annick                DIARD               F   \n",
       "8      2445019             Annaïck             FRESNAIS               F   \n",
       "9      6719254      Pierre-Edouard                 LEAU               M   \n",
       "\n",
       "  customer_birth_date customer_country  customer_phone_number  \n",
       "0          19/12/1976          Nigeria          2348118052430  \n",
       "1          22/09/1976          Tunisia            21636540047  \n",
       "2          01/09/1980            Italy           395040038978  \n",
       "3          07/06/1989           Turkey           908616296054  \n",
       "4          19/11/1983          Austria           439333168480  \n",
       "5          17/01/1990        Argentina           544242909748  \n",
       "6          04/08/1981          Morocco           212822671423  \n",
       "7          17/11/1989          Morocco           212621463806  \n",
       "8          14/09/1975      Netherlands            31179894436  \n",
       "9          03/05/1986         Colombia             5704043651  "
      ]
     },
     "execution_count": 94,
     "metadata": {},
     "output_type": "execute_result"
    }
   ],
   "source": [
    "customers_df.head(10)\n"
   ]
  },
  {
   "cell_type": "markdown",
   "metadata": {
    "id": "PHFQ_9dg-6Th"
   },
   "source": [
    "**Data types of the table**"
   ]
  },
  {
   "cell_type": "code",
   "execution_count": 95,
   "metadata": {
    "colab": {
     "base_uri": "https://localhost:8080/"
    },
    "executionInfo": {
     "elapsed": 295,
     "status": "ok",
     "timestamp": 1694699868027,
     "user": {
      "displayName": "Hadrien MORAND",
      "userId": "03014692039406239214"
     },
     "user_tz": -120
    },
    "id": "vL9wRdUO-6Tq",
    "outputId": "9d737433-6fb1-4664-87a2-672e22f3ed81"
   },
   "outputs": [
    {
     "data": {
      "text/plain": [
       "customer_id               int64\n",
       "customer_first_name      object\n",
       "customer_family_name     object\n",
       "customer_gender          object\n",
       "customer_birth_date      object\n",
       "customer_country         object\n",
       "customer_phone_number     int64\n",
       "dtype: object"
      ]
     },
     "execution_count": 95,
     "metadata": {},
     "output_type": "execute_result"
    }
   ],
   "source": [
    "customers_df.dtypes\n"
   ]
  },
  {
   "cell_type": "markdown",
   "metadata": {
    "id": "goc8f91vgT6w"
   },
   "source": [
    "**Update of column names**"
   ]
  },
  {
   "cell_type": "code",
   "execution_count": 96,
   "metadata": {
    "colab": {
     "base_uri": "https://localhost:8080/",
     "height": 424
    },
    "executionInfo": {
     "elapsed": 336,
     "status": "ok",
     "timestamp": 1697704053791,
     "user": {
      "displayName": "Hadrien MORAND",
      "userId": "03014692039406239214"
     },
     "user_tz": -120
    },
    "id": "VswXBHS7gUaS",
    "outputId": "e5c5a2c5-d755-4fd9-e80f-8350314276bf"
   },
   "outputs": [
    {
     "data": {
      "text/html": [
       "<div>\n",
       "<style scoped>\n",
       "    .dataframe tbody tr th:only-of-type {\n",
       "        vertical-align: middle;\n",
       "    }\n",
       "\n",
       "    .dataframe tbody tr th {\n",
       "        vertical-align: top;\n",
       "    }\n",
       "\n",
       "    .dataframe thead th {\n",
       "        text-align: right;\n",
       "    }\n",
       "</style>\n",
       "<table border=\"1\" class=\"dataframe\">\n",
       "  <thead>\n",
       "    <tr style=\"text-align: right;\">\n",
       "      <th></th>\n",
       "      <th>customer_id</th>\n",
       "      <th>first_name</th>\n",
       "      <th>family_name</th>\n",
       "      <th>gender</th>\n",
       "      <th>birth_date</th>\n",
       "      <th>country</th>\n",
       "      <th>phone_number</th>\n",
       "    </tr>\n",
       "  </thead>\n",
       "  <tbody>\n",
       "    <tr>\n",
       "      <th>0</th>\n",
       "      <td>7529424</td>\n",
       "      <td>Tatiana</td>\n",
       "      <td>REZE</td>\n",
       "      <td>F</td>\n",
       "      <td>19/12/1976</td>\n",
       "      <td>Nigeria</td>\n",
       "      <td>2348118052430</td>\n",
       "    </tr>\n",
       "    <tr>\n",
       "      <th>1</th>\n",
       "      <td>5688420</td>\n",
       "      <td>Soizic</td>\n",
       "      <td>FOUILLET</td>\n",
       "      <td>F</td>\n",
       "      <td>22/09/1976</td>\n",
       "      <td>Tunisia</td>\n",
       "      <td>21636540047</td>\n",
       "    </tr>\n",
       "    <tr>\n",
       "      <th>2</th>\n",
       "      <td>7549035</td>\n",
       "      <td>Maude</td>\n",
       "      <td>SUPIOT</td>\n",
       "      <td>F</td>\n",
       "      <td>01/09/1980</td>\n",
       "      <td>Italy</td>\n",
       "      <td>395040038978</td>\n",
       "    </tr>\n",
       "    <tr>\n",
       "      <th>3</th>\n",
       "      <td>4119351</td>\n",
       "      <td>Gilles</td>\n",
       "      <td>GENDRY</td>\n",
       "      <td>F</td>\n",
       "      <td>07/06/1989</td>\n",
       "      <td>Turkey</td>\n",
       "      <td>908616296054</td>\n",
       "    </tr>\n",
       "    <tr>\n",
       "      <th>4</th>\n",
       "      <td>1297594</td>\n",
       "      <td>Gwenaelle</td>\n",
       "      <td>POMMIER</td>\n",
       "      <td>F</td>\n",
       "      <td>19/11/1983</td>\n",
       "      <td>Austria</td>\n",
       "      <td>439333168480</td>\n",
       "    </tr>\n",
       "    <tr>\n",
       "      <th>...</th>\n",
       "      <td>...</td>\n",
       "      <td>...</td>\n",
       "      <td>...</td>\n",
       "      <td>...</td>\n",
       "      <td>...</td>\n",
       "      <td>...</td>\n",
       "      <td>...</td>\n",
       "    </tr>\n",
       "    <tr>\n",
       "      <th>995</th>\n",
       "      <td>314483</td>\n",
       "      <td>Maureen</td>\n",
       "      <td>LENOIR</td>\n",
       "      <td>F</td>\n",
       "      <td>09/10/1978</td>\n",
       "      <td>China</td>\n",
       "      <td>865860747021</td>\n",
       "    </tr>\n",
       "    <tr>\n",
       "      <th>996</th>\n",
       "      <td>5641192</td>\n",
       "      <td>Sylvaine</td>\n",
       "      <td>TRICOIRE</td>\n",
       "      <td>F</td>\n",
       "      <td>18/01/1982</td>\n",
       "      <td>India</td>\n",
       "      <td>916247374201</td>\n",
       "    </tr>\n",
       "    <tr>\n",
       "      <th>997</th>\n",
       "      <td>8091557</td>\n",
       "      <td>Jean-Edouard</td>\n",
       "      <td>LANGE</td>\n",
       "      <td>M</td>\n",
       "      <td>23/09/1985</td>\n",
       "      <td>Norway</td>\n",
       "      <td>4744765914</td>\n",
       "    </tr>\n",
       "    <tr>\n",
       "      <th>998</th>\n",
       "      <td>6991796</td>\n",
       "      <td>Khadija</td>\n",
       "      <td>EDOUARD</td>\n",
       "      <td>F</td>\n",
       "      <td>15/04/1979</td>\n",
       "      <td>Morocco</td>\n",
       "      <td>212733713755</td>\n",
       "    </tr>\n",
       "    <tr>\n",
       "      <th>999</th>\n",
       "      <td>4075623</td>\n",
       "      <td>Marceline</td>\n",
       "      <td>CHARTON</td>\n",
       "      <td>F</td>\n",
       "      <td>09/06/1981</td>\n",
       "      <td>Mexico</td>\n",
       "      <td>521109016001</td>\n",
       "    </tr>\n",
       "  </tbody>\n",
       "</table>\n",
       "<p>1000 rows × 7 columns</p>\n",
       "</div>"
      ],
      "text/plain": [
       "     customer_id    first_name family_name gender  birth_date  country   \n",
       "0        7529424       Tatiana        REZE      F  19/12/1976  Nigeria  \\\n",
       "1        5688420        Soizic    FOUILLET      F  22/09/1976  Tunisia   \n",
       "2        7549035         Maude      SUPIOT      F  01/09/1980    Italy   \n",
       "3        4119351        Gilles      GENDRY      F  07/06/1989   Turkey   \n",
       "4        1297594     Gwenaelle     POMMIER      F  19/11/1983  Austria   \n",
       "..           ...           ...         ...    ...         ...      ...   \n",
       "995       314483       Maureen      LENOIR      F  09/10/1978    China   \n",
       "996      5641192      Sylvaine    TRICOIRE      F  18/01/1982    India   \n",
       "997      8091557  Jean-Edouard       LANGE      M  23/09/1985   Norway   \n",
       "998      6991796       Khadija     EDOUARD      F  15/04/1979  Morocco   \n",
       "999      4075623     Marceline     CHARTON      F  09/06/1981   Mexico   \n",
       "\n",
       "      phone_number  \n",
       "0    2348118052430  \n",
       "1      21636540047  \n",
       "2     395040038978  \n",
       "3     908616296054  \n",
       "4     439333168480  \n",
       "..             ...  \n",
       "995   865860747021  \n",
       "996   916247374201  \n",
       "997     4744765914  \n",
       "998   212733713755  \n",
       "999   521109016001  \n",
       "\n",
       "[1000 rows x 7 columns]"
      ]
     },
     "execution_count": 96,
     "metadata": {},
     "output_type": "execute_result"
    }
   ],
   "source": [
    "customers_df.rename(columns={column: column.split('customer_')[-1] for column in customers_df.columns[1:]}, inplace=True)\n",
    "customers_df\n"
   ]
  },
  {
   "cell_type": "code",
   "execution_count": 97,
   "metadata": {},
   "outputs": [],
   "source": [
    "customers_df = customers_df.rename(columns={'family_name': 'last_name'})"
   ]
  },
  {
   "cell_type": "code",
   "execution_count": 98,
   "metadata": {},
   "outputs": [
    {
     "data": {
      "text/html": [
       "<div>\n",
       "<style scoped>\n",
       "    .dataframe tbody tr th:only-of-type {\n",
       "        vertical-align: middle;\n",
       "    }\n",
       "\n",
       "    .dataframe tbody tr th {\n",
       "        vertical-align: top;\n",
       "    }\n",
       "\n",
       "    .dataframe thead th {\n",
       "        text-align: right;\n",
       "    }\n",
       "</style>\n",
       "<table border=\"1\" class=\"dataframe\">\n",
       "  <thead>\n",
       "    <tr style=\"text-align: right;\">\n",
       "      <th></th>\n",
       "      <th>customer_id</th>\n",
       "      <th>first_name</th>\n",
       "      <th>last_name</th>\n",
       "      <th>gender</th>\n",
       "      <th>birth_date</th>\n",
       "      <th>country</th>\n",
       "      <th>phone_number</th>\n",
       "    </tr>\n",
       "  </thead>\n",
       "  <tbody>\n",
       "    <tr>\n",
       "      <th>0</th>\n",
       "      <td>7529424</td>\n",
       "      <td>Tatiana</td>\n",
       "      <td>REZE</td>\n",
       "      <td>F</td>\n",
       "      <td>19/12/1976</td>\n",
       "      <td>Nigeria</td>\n",
       "      <td>2348118052430</td>\n",
       "    </tr>\n",
       "    <tr>\n",
       "      <th>1</th>\n",
       "      <td>5688420</td>\n",
       "      <td>Soizic</td>\n",
       "      <td>FOUILLET</td>\n",
       "      <td>F</td>\n",
       "      <td>22/09/1976</td>\n",
       "      <td>Tunisia</td>\n",
       "      <td>21636540047</td>\n",
       "    </tr>\n",
       "    <tr>\n",
       "      <th>2</th>\n",
       "      <td>7549035</td>\n",
       "      <td>Maude</td>\n",
       "      <td>SUPIOT</td>\n",
       "      <td>F</td>\n",
       "      <td>01/09/1980</td>\n",
       "      <td>Italy</td>\n",
       "      <td>395040038978</td>\n",
       "    </tr>\n",
       "    <tr>\n",
       "      <th>3</th>\n",
       "      <td>4119351</td>\n",
       "      <td>Gilles</td>\n",
       "      <td>GENDRY</td>\n",
       "      <td>F</td>\n",
       "      <td>07/06/1989</td>\n",
       "      <td>Turkey</td>\n",
       "      <td>908616296054</td>\n",
       "    </tr>\n",
       "    <tr>\n",
       "      <th>4</th>\n",
       "      <td>1297594</td>\n",
       "      <td>Gwenaelle</td>\n",
       "      <td>POMMIER</td>\n",
       "      <td>F</td>\n",
       "      <td>19/11/1983</td>\n",
       "      <td>Austria</td>\n",
       "      <td>439333168480</td>\n",
       "    </tr>\n",
       "    <tr>\n",
       "      <th>...</th>\n",
       "      <td>...</td>\n",
       "      <td>...</td>\n",
       "      <td>...</td>\n",
       "      <td>...</td>\n",
       "      <td>...</td>\n",
       "      <td>...</td>\n",
       "      <td>...</td>\n",
       "    </tr>\n",
       "    <tr>\n",
       "      <th>995</th>\n",
       "      <td>314483</td>\n",
       "      <td>Maureen</td>\n",
       "      <td>LENOIR</td>\n",
       "      <td>F</td>\n",
       "      <td>09/10/1978</td>\n",
       "      <td>China</td>\n",
       "      <td>865860747021</td>\n",
       "    </tr>\n",
       "    <tr>\n",
       "      <th>996</th>\n",
       "      <td>5641192</td>\n",
       "      <td>Sylvaine</td>\n",
       "      <td>TRICOIRE</td>\n",
       "      <td>F</td>\n",
       "      <td>18/01/1982</td>\n",
       "      <td>India</td>\n",
       "      <td>916247374201</td>\n",
       "    </tr>\n",
       "    <tr>\n",
       "      <th>997</th>\n",
       "      <td>8091557</td>\n",
       "      <td>Jean-Edouard</td>\n",
       "      <td>LANGE</td>\n",
       "      <td>M</td>\n",
       "      <td>23/09/1985</td>\n",
       "      <td>Norway</td>\n",
       "      <td>4744765914</td>\n",
       "    </tr>\n",
       "    <tr>\n",
       "      <th>998</th>\n",
       "      <td>6991796</td>\n",
       "      <td>Khadija</td>\n",
       "      <td>EDOUARD</td>\n",
       "      <td>F</td>\n",
       "      <td>15/04/1979</td>\n",
       "      <td>Morocco</td>\n",
       "      <td>212733713755</td>\n",
       "    </tr>\n",
       "    <tr>\n",
       "      <th>999</th>\n",
       "      <td>4075623</td>\n",
       "      <td>Marceline</td>\n",
       "      <td>CHARTON</td>\n",
       "      <td>F</td>\n",
       "      <td>09/06/1981</td>\n",
       "      <td>Mexico</td>\n",
       "      <td>521109016001</td>\n",
       "    </tr>\n",
       "  </tbody>\n",
       "</table>\n",
       "<p>1000 rows × 7 columns</p>\n",
       "</div>"
      ],
      "text/plain": [
       "     customer_id    first_name last_name gender  birth_date  country   \n",
       "0        7529424       Tatiana      REZE      F  19/12/1976  Nigeria  \\\n",
       "1        5688420        Soizic  FOUILLET      F  22/09/1976  Tunisia   \n",
       "2        7549035         Maude    SUPIOT      F  01/09/1980    Italy   \n",
       "3        4119351        Gilles    GENDRY      F  07/06/1989   Turkey   \n",
       "4        1297594     Gwenaelle   POMMIER      F  19/11/1983  Austria   \n",
       "..           ...           ...       ...    ...         ...      ...   \n",
       "995       314483       Maureen    LENOIR      F  09/10/1978    China   \n",
       "996      5641192      Sylvaine  TRICOIRE      F  18/01/1982    India   \n",
       "997      8091557  Jean-Edouard     LANGE      M  23/09/1985   Norway   \n",
       "998      6991796       Khadija   EDOUARD      F  15/04/1979  Morocco   \n",
       "999      4075623     Marceline   CHARTON      F  09/06/1981   Mexico   \n",
       "\n",
       "      phone_number  \n",
       "0    2348118052430  \n",
       "1      21636540047  \n",
       "2     395040038978  \n",
       "3     908616296054  \n",
       "4     439333168480  \n",
       "..             ...  \n",
       "995   865860747021  \n",
       "996   916247374201  \n",
       "997     4744765914  \n",
       "998   212733713755  \n",
       "999   521109016001  \n",
       "\n",
       "[1000 rows x 7 columns]"
      ]
     },
     "execution_count": 98,
     "metadata": {},
     "output_type": "execute_result"
    }
   ],
   "source": [
    "customers_df"
   ]
  },
  {
   "cell_type": "markdown",
   "metadata": {
    "id": "hW96zdgRBXCF"
   },
   "source": [
    "### **Export of corrected file**"
   ]
  },
  {
   "cell_type": "code",
   "execution_count": 99,
   "metadata": {
    "executionInfo": {
     "elapsed": 297,
     "status": "ok",
     "timestamp": 1697704076656,
     "user": {
      "displayName": "Hadrien MORAND",
      "userId": "03014692039406239214"
     },
     "user_tz": -120
    },
    "id": "XAyyjvtdBa8z"
   },
   "outputs": [],
   "source": [
    "customers_df.to_csv('Datasets/cleaned/customers.csv', sep='\\t', index=False)\n"
   ]
  },
  {
   "cell_type": "markdown",
   "metadata": {
    "id": "NPXzmYLR1cvs"
   },
   "source": [
    "## **Trips**"
   ]
  },
  {
   "cell_type": "code",
   "execution_count": 100,
   "metadata": {
    "colab": {
     "base_uri": "https://localhost:8080/",
     "height": 424
    },
    "executionInfo": {
     "elapsed": 428,
     "status": "ok",
     "timestamp": 1697704166013,
     "user": {
      "displayName": "Hadrien MORAND",
      "userId": "03014692039406239214"
     },
     "user_tz": -120
    },
    "id": "NiuKeKdF1iZD",
    "outputId": "db080895-b915-41dc-e875-46318b340dff"
   },
   "outputs": [
    {
     "data": {
      "text/html": [
       "<div>\n",
       "<style scoped>\n",
       "    .dataframe tbody tr th:only-of-type {\n",
       "        vertical-align: middle;\n",
       "    }\n",
       "\n",
       "    .dataframe tbody tr th {\n",
       "        vertical-align: top;\n",
       "    }\n",
       "\n",
       "    .dataframe thead th {\n",
       "        text-align: right;\n",
       "    }\n",
       "</style>\n",
       "<table border=\"1\" class=\"dataframe\">\n",
       "  <thead>\n",
       "    <tr style=\"text-align: right;\">\n",
       "      <th></th>\n",
       "      <th>trip_id</th>\n",
       "      <th>customer_id</th>\n",
       "    </tr>\n",
       "  </thead>\n",
       "  <tbody>\n",
       "    <tr>\n",
       "      <th>0</th>\n",
       "      <td>1</td>\n",
       "      <td>7529424</td>\n",
       "    </tr>\n",
       "    <tr>\n",
       "      <th>1</th>\n",
       "      <td>30</td>\n",
       "      <td>2531752</td>\n",
       "    </tr>\n",
       "    <tr>\n",
       "      <th>2</th>\n",
       "      <td>40</td>\n",
       "      <td>2445019</td>\n",
       "    </tr>\n",
       "    <tr>\n",
       "      <th>3</th>\n",
       "      <td>65</td>\n",
       "      <td>2134022</td>\n",
       "    </tr>\n",
       "    <tr>\n",
       "      <th>4</th>\n",
       "      <td>76</td>\n",
       "      <td>949994</td>\n",
       "    </tr>\n",
       "    <tr>\n",
       "      <th>...</th>\n",
       "      <td>...</td>\n",
       "      <td>...</td>\n",
       "    </tr>\n",
       "    <tr>\n",
       "      <th>212</th>\n",
       "      <td>3952</td>\n",
       "      <td>9223879</td>\n",
       "    </tr>\n",
       "    <tr>\n",
       "      <th>213</th>\n",
       "      <td>3997</td>\n",
       "      <td>6605808</td>\n",
       "    </tr>\n",
       "    <tr>\n",
       "      <th>214</th>\n",
       "      <td>4041</td>\n",
       "      <td>6673798</td>\n",
       "    </tr>\n",
       "    <tr>\n",
       "      <th>215</th>\n",
       "      <td>4042</td>\n",
       "      <td>6673798</td>\n",
       "    </tr>\n",
       "    <tr>\n",
       "      <th>216</th>\n",
       "      <td>4085</td>\n",
       "      <td>8091557</td>\n",
       "    </tr>\n",
       "  </tbody>\n",
       "</table>\n",
       "<p>217 rows × 2 columns</p>\n",
       "</div>"
      ],
      "text/plain": [
       "     trip_id  customer_id\n",
       "0          1      7529424\n",
       "1         30      2531752\n",
       "2         40      2445019\n",
       "3         65      2134022\n",
       "4         76       949994\n",
       "..       ...          ...\n",
       "212     3952      9223879\n",
       "213     3997      6605808\n",
       "214     4041      6673798\n",
       "215     4042      6673798\n",
       "216     4085      8091557\n",
       "\n",
       "[217 rows x 2 columns]"
      ]
     },
     "execution_count": 100,
     "metadata": {},
     "output_type": "execute_result"
    }
   ],
   "source": [
    "trips_df = hotel_bookings_df[['trip_id', 'customer_id']]\n",
    "\n",
    "trips_df\n"
   ]
  },
  {
   "cell_type": "markdown",
   "metadata": {
    "id": "utWUyRJa1wAi"
   },
   "source": [
    "### **Export of Trips tables**"
   ]
  },
  {
   "cell_type": "code",
   "execution_count": 101,
   "metadata": {
    "executionInfo": {
     "elapsed": 489,
     "status": "ok",
     "timestamp": 1697704177230,
     "user": {
      "displayName": "Hadrien MORAND",
      "userId": "03014692039406239214"
     },
     "user_tz": -120
    },
    "id": "Xyas0dMS13OQ"
   },
   "outputs": [],
   "source": [
    "trips_df.to_csv('Datasets/cleaned/trips.csv', sep='\\t', index=False)\n"
   ]
  },
  {
   "cell_type": "markdown",
   "metadata": {
    "id": "RTnnW6tI-_qV"
   },
   "source": [
    "## **Hotel bookings**"
   ]
  },
  {
   "cell_type": "markdown",
   "metadata": {
    "id": "W02YO84r-_qk"
   },
   "source": [
    "**Table overview**"
   ]
  },
  {
   "cell_type": "code",
   "execution_count": 102,
   "metadata": {
    "colab": {
     "base_uri": "https://localhost:8080/",
     "height": 363
    },
    "executionInfo": {
     "elapsed": 5,
     "status": "ok",
     "timestamp": 1697532722354,
     "user": {
      "displayName": "Hadrien MORAND",
      "userId": "03014692039406239214"
     },
     "user_tz": -120
    },
    "id": "VmiXXH2R-_qk",
    "outputId": "ad81a694-8012-4fdc-f69c-b1b08278682a"
   },
   "outputs": [
    {
     "data": {
      "text/html": [
       "<div>\n",
       "<style scoped>\n",
       "    .dataframe tbody tr th:only-of-type {\n",
       "        vertical-align: middle;\n",
       "    }\n",
       "\n",
       "    .dataframe tbody tr th {\n",
       "        vertical-align: top;\n",
       "    }\n",
       "\n",
       "    .dataframe thead th {\n",
       "        text-align: right;\n",
       "    }\n",
       "</style>\n",
       "<table border=\"1\" class=\"dataframe\">\n",
       "  <thead>\n",
       "    <tr style=\"text-align: right;\">\n",
       "      <th></th>\n",
       "      <th>trip_id</th>\n",
       "      <th>customer_id</th>\n",
       "      <th>hotel_id</th>\n",
       "      <th>check_in_date</th>\n",
       "      <th>check_out_date</th>\n",
       "      <th>price</th>\n",
       "      <th>breakfast_included</th>\n",
       "    </tr>\n",
       "  </thead>\n",
       "  <tbody>\n",
       "    <tr>\n",
       "      <th>0</th>\n",
       "      <td>1</td>\n",
       "      <td>7529424</td>\n",
       "      <td>1439</td>\n",
       "      <td>08/06/2016</td>\n",
       "      <td>05/07/2016</td>\n",
       "      <td>3240</td>\n",
       "      <td>True</td>\n",
       "    </tr>\n",
       "    <tr>\n",
       "      <th>1</th>\n",
       "      <td>30</td>\n",
       "      <td>2531752</td>\n",
       "      <td>912</td>\n",
       "      <td>08/11/2016</td>\n",
       "      <td>26/11/2016</td>\n",
       "      <td>2160</td>\n",
       "      <td>True</td>\n",
       "    </tr>\n",
       "    <tr>\n",
       "      <th>2</th>\n",
       "      <td>40</td>\n",
       "      <td>2445019</td>\n",
       "      <td>35</td>\n",
       "      <td>13/12/2018</td>\n",
       "      <td>01/01/2019</td>\n",
       "      <td>2280</td>\n",
       "      <td>True</td>\n",
       "    </tr>\n",
       "    <tr>\n",
       "      <th>3</th>\n",
       "      <td>65</td>\n",
       "      <td>2134022</td>\n",
       "      <td>716</td>\n",
       "      <td>29/09/2018</td>\n",
       "      <td>19/10/2018</td>\n",
       "      <td>2400</td>\n",
       "      <td>True</td>\n",
       "    </tr>\n",
       "    <tr>\n",
       "      <th>4</th>\n",
       "      <td>76</td>\n",
       "      <td>949994</td>\n",
       "      <td>1090</td>\n",
       "      <td>29/12/2018</td>\n",
       "      <td>12/01/2019</td>\n",
       "      <td>1680</td>\n",
       "      <td>True</td>\n",
       "    </tr>\n",
       "    <tr>\n",
       "      <th>5</th>\n",
       "      <td>108</td>\n",
       "      <td>3478960</td>\n",
       "      <td>1230</td>\n",
       "      <td>01/12/2018</td>\n",
       "      <td>30/12/2018</td>\n",
       "      <td>3480</td>\n",
       "      <td>False</td>\n",
       "    </tr>\n",
       "    <tr>\n",
       "      <th>6</th>\n",
       "      <td>137</td>\n",
       "      <td>6094686</td>\n",
       "      <td>938</td>\n",
       "      <td>20/06/2017</td>\n",
       "      <td>06/07/2017</td>\n",
       "      <td>1440</td>\n",
       "      <td>True</td>\n",
       "    </tr>\n",
       "    <tr>\n",
       "      <th>7</th>\n",
       "      <td>162</td>\n",
       "      <td>7013174</td>\n",
       "      <td>1216</td>\n",
       "      <td>11/11/2018</td>\n",
       "      <td>23/11/2018</td>\n",
       "      <td>1080</td>\n",
       "      <td>False</td>\n",
       "    </tr>\n",
       "    <tr>\n",
       "      <th>8</th>\n",
       "      <td>187</td>\n",
       "      <td>9071178</td>\n",
       "      <td>829</td>\n",
       "      <td>15/06/2018</td>\n",
       "      <td>08/07/2018</td>\n",
       "      <td>2760</td>\n",
       "      <td>False</td>\n",
       "    </tr>\n",
       "    <tr>\n",
       "      <th>9</th>\n",
       "      <td>188</td>\n",
       "      <td>9071178</td>\n",
       "      <td>829</td>\n",
       "      <td>04/10/2018</td>\n",
       "      <td>13/10/2018</td>\n",
       "      <td>1080</td>\n",
       "      <td>True</td>\n",
       "    </tr>\n",
       "  </tbody>\n",
       "</table>\n",
       "</div>"
      ],
      "text/plain": [
       "   trip_id  customer_id  hotel_id check_in_date check_out_date  price   \n",
       "0        1      7529424      1439    08/06/2016     05/07/2016   3240  \\\n",
       "1       30      2531752       912    08/11/2016     26/11/2016   2160   \n",
       "2       40      2445019        35    13/12/2018     01/01/2019   2280   \n",
       "3       65      2134022       716    29/09/2018     19/10/2018   2400   \n",
       "4       76       949994      1090    29/12/2018     12/01/2019   1680   \n",
       "5      108      3478960      1230    01/12/2018     30/12/2018   3480   \n",
       "6      137      6094686       938    20/06/2017     06/07/2017   1440   \n",
       "7      162      7013174      1216    11/11/2018     23/11/2018   1080   \n",
       "8      187      9071178       829    15/06/2018     08/07/2018   2760   \n",
       "9      188      9071178       829    04/10/2018     13/10/2018   1080   \n",
       "\n",
       "   breakfast_included  \n",
       "0                True  \n",
       "1                True  \n",
       "2                True  \n",
       "3                True  \n",
       "4                True  \n",
       "5               False  \n",
       "6                True  \n",
       "7               False  \n",
       "8               False  \n",
       "9                True  "
      ]
     },
     "execution_count": 102,
     "metadata": {},
     "output_type": "execute_result"
    }
   ],
   "source": [
    "hotel_bookings_df.head(10)\n"
   ]
  },
  {
   "cell_type": "markdown",
   "metadata": {
    "id": "Pc2WfOht-_qk"
   },
   "source": [
    "**Data types of the table**"
   ]
  },
  {
   "cell_type": "code",
   "execution_count": 103,
   "metadata": {
    "colab": {
     "base_uri": "https://localhost:8080/"
    },
    "executionInfo": {
     "elapsed": 2,
     "status": "ok",
     "timestamp": 1697532723666,
     "user": {
      "displayName": "Hadrien MORAND",
      "userId": "03014692039406239214"
     },
     "user_tz": -120
    },
    "id": "Vm6-c2uQ-_qk",
    "outputId": "9e4508d9-9130-42b4-cd88-f639943d9607"
   },
   "outputs": [
    {
     "data": {
      "text/plain": [
       "trip_id                int64\n",
       "customer_id            int64\n",
       "hotel_id               int64\n",
       "check_in_date         object\n",
       "check_out_date        object\n",
       "price                  int64\n",
       "breakfast_included      bool\n",
       "dtype: object"
      ]
     },
     "execution_count": 103,
     "metadata": {},
     "output_type": "execute_result"
    }
   ],
   "source": [
    "hotel_bookings_df.dtypes\n"
   ]
  },
  {
   "cell_type": "markdown",
   "metadata": {
    "id": "UWn1x4hRJaHP"
   },
   "source": [
    "### **Cleaning the data set**"
   ]
  },
  {
   "cell_type": "code",
   "execution_count": 104,
   "metadata": {
    "executionInfo": {
     "elapsed": 260,
     "status": "ok",
     "timestamp": 1697704143126,
     "user": {
      "displayName": "Hadrien MORAND",
      "userId": "03014692039406239214"
     },
     "user_tz": -120
    },
    "id": "a_P8n6v2JgwF"
   },
   "outputs": [],
   "source": [
    "## Adding an id column\n",
    "hotel_bookings_df['hotel_booking_id'] = hotel_bookings_df.index\n",
    "## Keeping the relevant columns\n",
    "hotel_bookings_df = hotel_bookings_df[['hotel_booking_id', 'price', 'breakfast_included', \n",
    "                                       'check_in_date', 'check_out_date', 'trip_id', 'hotel_id']]\n",
    "\n",
    "hotel_bookings_df.to_csv('Datasets/cleaned/hotel_bookings.csv', index=False, sep='\\t')"
   ]
  },
  {
   "cell_type": "markdown",
   "metadata": {
    "id": "9Mi5QCLg_DTi"
   },
   "source": [
    "## **Flight bookings**"
   ]
  },
  {
   "cell_type": "markdown",
   "metadata": {
    "id": "O7SpQfFP_DTj"
   },
   "source": [
    "**Table overview**"
   ]
  },
  {
   "cell_type": "code",
   "execution_count": 105,
   "metadata": {
    "colab": {
     "base_uri": "https://localhost:8080/",
     "height": 383
    },
    "executionInfo": {
     "elapsed": 249,
     "status": "ok",
     "timestamp": 1697704196662,
     "user": {
      "displayName": "Hadrien MORAND",
      "userId": "03014692039406239214"
     },
     "user_tz": -120
    },
    "id": "RqZcftIp_DTj",
    "outputId": "26222543-9239-4f1a-efcf-6ca373ec87af"
   },
   "outputs": [
    {
     "data": {
      "text/html": [
       "<div>\n",
       "<style scoped>\n",
       "    .dataframe tbody tr th:only-of-type {\n",
       "        vertical-align: middle;\n",
       "    }\n",
       "\n",
       "    .dataframe tbody tr th {\n",
       "        vertical-align: top;\n",
       "    }\n",
       "\n",
       "    .dataframe thead th {\n",
       "        text-align: right;\n",
       "    }\n",
       "</style>\n",
       "<table border=\"1\" class=\"dataframe\">\n",
       "  <thead>\n",
       "    <tr style=\"text-align: right;\">\n",
       "      <th></th>\n",
       "      <th>trip_id</th>\n",
       "      <th>customer_id</th>\n",
       "      <th>flight_number</th>\n",
       "      <th>airline_id</th>\n",
       "      <th>aircraft</th>\n",
       "      <th>airport_src</th>\n",
       "      <th>airport_dst</th>\n",
       "      <th>departure_time</th>\n",
       "      <th>departure_date</th>\n",
       "      <th>flight_duration</th>\n",
       "      <th>travel_class</th>\n",
       "      <th>seat_number</th>\n",
       "      <th>price</th>\n",
       "    </tr>\n",
       "  </thead>\n",
       "  <tbody>\n",
       "    <tr>\n",
       "      <th>0</th>\n",
       "      <td>0</td>\n",
       "      <td>7529424</td>\n",
       "      <td>ME1045</td>\n",
       "      <td>3490</td>\n",
       "      <td>332</td>\n",
       "      <td>270</td>\n",
       "      <td>2177</td>\n",
       "      <td>10:45</td>\n",
       "      <td>08/06/2010</td>\n",
       "      <td>05:02</td>\n",
       "      <td>business</td>\n",
       "      <td>27D</td>\n",
       "      <td>728</td>\n",
       "    </tr>\n",
       "    <tr>\n",
       "      <th>1</th>\n",
       "      <td>0</td>\n",
       "      <td>7529424</td>\n",
       "      <td>ME0715</td>\n",
       "      <td>3490</td>\n",
       "      <td>332</td>\n",
       "      <td>2177</td>\n",
       "      <td>270</td>\n",
       "      <td>07:15</td>\n",
       "      <td>17/06/2010</td>\n",
       "      <td>05:02</td>\n",
       "      <td>business</td>\n",
       "      <td>42A</td>\n",
       "      <td>728</td>\n",
       "    </tr>\n",
       "    <tr>\n",
       "      <th>2</th>\n",
       "      <td>1</td>\n",
       "      <td>7529424</td>\n",
       "      <td>KL1800</td>\n",
       "      <td>3090</td>\n",
       "      <td>330</td>\n",
       "      <td>273</td>\n",
       "      <td>580</td>\n",
       "      <td>18:00</td>\n",
       "      <td>08/06/2016</td>\n",
       "      <td>06:49</td>\n",
       "      <td>economy</td>\n",
       "      <td>8G</td>\n",
       "      <td>457</td>\n",
       "    </tr>\n",
       "    <tr>\n",
       "      <th>3</th>\n",
       "      <td>1</td>\n",
       "      <td>7529424</td>\n",
       "      <td>KL1915</td>\n",
       "      <td>3090</td>\n",
       "      <td>330</td>\n",
       "      <td>580</td>\n",
       "      <td>273</td>\n",
       "      <td>19:15</td>\n",
       "      <td>05/07/2016</td>\n",
       "      <td>06:49</td>\n",
       "      <td>business</td>\n",
       "      <td>36C</td>\n",
       "      <td>857</td>\n",
       "    </tr>\n",
       "    <tr>\n",
       "      <th>4</th>\n",
       "      <td>2</td>\n",
       "      <td>7529424</td>\n",
       "      <td>AZ0745</td>\n",
       "      <td>596</td>\n",
       "      <td>330</td>\n",
       "      <td>273</td>\n",
       "      <td>1555</td>\n",
       "      <td>07:45</td>\n",
       "      <td>11/01/2018</td>\n",
       "      <td>05:29</td>\n",
       "      <td>business</td>\n",
       "      <td>22A</td>\n",
       "      <td>761</td>\n",
       "    </tr>\n",
       "    <tr>\n",
       "      <th>5</th>\n",
       "      <td>2</td>\n",
       "      <td>7529424</td>\n",
       "      <td>AZ0745</td>\n",
       "      <td>596</td>\n",
       "      <td>330</td>\n",
       "      <td>1555</td>\n",
       "      <td>273</td>\n",
       "      <td>07:45</td>\n",
       "      <td>03/02/2018</td>\n",
       "      <td>05:29</td>\n",
       "      <td>economy</td>\n",
       "      <td>2A</td>\n",
       "      <td>361</td>\n",
       "    </tr>\n",
       "    <tr>\n",
       "      <th>6</th>\n",
       "      <td>3</td>\n",
       "      <td>7529424</td>\n",
       "      <td>W31500</td>\n",
       "      <td>20976</td>\n",
       "      <td>332</td>\n",
       "      <td>273</td>\n",
       "      <td>813</td>\n",
       "      <td>15:00</td>\n",
       "      <td>17/02/2018</td>\n",
       "      <td>06:07</td>\n",
       "      <td>economy</td>\n",
       "      <td>2I</td>\n",
       "      <td>407</td>\n",
       "    </tr>\n",
       "    <tr>\n",
       "      <th>7</th>\n",
       "      <td>3</td>\n",
       "      <td>7529424</td>\n",
       "      <td>W31015</td>\n",
       "      <td>20976</td>\n",
       "      <td>332</td>\n",
       "      <td>813</td>\n",
       "      <td>273</td>\n",
       "      <td>10:15</td>\n",
       "      <td>05/03/2018</td>\n",
       "      <td>06:07</td>\n",
       "      <td>business</td>\n",
       "      <td>32E</td>\n",
       "      <td>807</td>\n",
       "    </tr>\n",
       "    <tr>\n",
       "      <th>8</th>\n",
       "      <td>4</td>\n",
       "      <td>7529424</td>\n",
       "      <td>W30830</td>\n",
       "      <td>20976</td>\n",
       "      <td>73G</td>\n",
       "      <td>273</td>\n",
       "      <td>245</td>\n",
       "      <td>08:30</td>\n",
       "      <td>01/04/2018</td>\n",
       "      <td>00:37</td>\n",
       "      <td>business</td>\n",
       "      <td>36H</td>\n",
       "      <td>409</td>\n",
       "    </tr>\n",
       "    <tr>\n",
       "      <th>9</th>\n",
       "      <td>4</td>\n",
       "      <td>7529424</td>\n",
       "      <td>W31730</td>\n",
       "      <td>20976</td>\n",
       "      <td>73G</td>\n",
       "      <td>245</td>\n",
       "      <td>273</td>\n",
       "      <td>17:30</td>\n",
       "      <td>16/04/2018</td>\n",
       "      <td>00:37</td>\n",
       "      <td>business</td>\n",
       "      <td>33B</td>\n",
       "      <td>409</td>\n",
       "    </tr>\n",
       "  </tbody>\n",
       "</table>\n",
       "</div>"
      ],
      "text/plain": [
       "   trip_id  customer_id flight_number  airline_id aircraft  airport_src   \n",
       "0        0      7529424        ME1045        3490      332          270  \\\n",
       "1        0      7529424        ME0715        3490      332         2177   \n",
       "2        1      7529424        KL1800        3090      330          273   \n",
       "3        1      7529424        KL1915        3090      330          580   \n",
       "4        2      7529424        AZ0745         596      330          273   \n",
       "5        2      7529424        AZ0745         596      330         1555   \n",
       "6        3      7529424        W31500       20976      332          273   \n",
       "7        3      7529424        W31015       20976      332          813   \n",
       "8        4      7529424        W30830       20976      73G          273   \n",
       "9        4      7529424        W31730       20976      73G          245   \n",
       "\n",
       "   airport_dst departure_time departure_date flight_duration travel_class   \n",
       "0         2177          10:45     08/06/2010           05:02     business  \\\n",
       "1          270          07:15     17/06/2010           05:02     business   \n",
       "2          580          18:00     08/06/2016           06:49      economy   \n",
       "3          273          19:15     05/07/2016           06:49     business   \n",
       "4         1555          07:45     11/01/2018           05:29     business   \n",
       "5          273          07:45     03/02/2018           05:29      economy   \n",
       "6          813          15:00     17/02/2018           06:07      economy   \n",
       "7          273          10:15     05/03/2018           06:07     business   \n",
       "8          245          08:30     01/04/2018           00:37     business   \n",
       "9          273          17:30     16/04/2018           00:37     business   \n",
       "\n",
       "  seat_number  price  \n",
       "0         27D    728  \n",
       "1         42A    728  \n",
       "2          8G    457  \n",
       "3         36C    857  \n",
       "4         22A    761  \n",
       "5          2A    361  \n",
       "6          2I    407  \n",
       "7         32E    807  \n",
       "8         36H    409  \n",
       "9         33B    409  "
      ]
     },
     "execution_count": 105,
     "metadata": {},
     "output_type": "execute_result"
    }
   ],
   "source": [
    "flight_bookings_df.head(10)\n"
   ]
  },
  {
   "cell_type": "markdown",
   "metadata": {
    "id": "f-kBviMJ_DTk"
   },
   "source": [
    "**Data types of the table**"
   ]
  },
  {
   "cell_type": "code",
   "execution_count": 106,
   "metadata": {
    "colab": {
     "base_uri": "https://localhost:8080/"
    },
    "executionInfo": {
     "elapsed": 202,
     "status": "ok",
     "timestamp": 1697704199372,
     "user": {
      "displayName": "Hadrien MORAND",
      "userId": "03014692039406239214"
     },
     "user_tz": -120
    },
    "id": "X_Pkl9jU_DTk",
    "outputId": "1f180cca-f54f-4dda-ce37-12d9d7f2b4de"
   },
   "outputs": [
    {
     "data": {
      "text/plain": [
       "trip_id             int64\n",
       "customer_id         int64\n",
       "flight_number      object\n",
       "airline_id          int64\n",
       "aircraft           object\n",
       "airport_src         int64\n",
       "airport_dst         int64\n",
       "departure_time     object\n",
       "departure_date     object\n",
       "flight_duration    object\n",
       "travel_class       object\n",
       "seat_number        object\n",
       "price               int64\n",
       "dtype: object"
      ]
     },
     "execution_count": 106,
     "metadata": {},
     "output_type": "execute_result"
    }
   ],
   "source": [
    "flight_bookings_df.dtypes\n"
   ]
  },
  {
   "cell_type": "markdown",
   "metadata": {
    "id": "XvoKUQb84l3a"
   },
   "source": [
    "### **Cleaning**"
   ]
  },
  {
   "cell_type": "code",
   "execution_count": 107,
   "metadata": {
    "colab": {
     "base_uri": "https://localhost:8080/",
     "height": 444
    },
    "executionInfo": {
     "elapsed": 407,
     "status": "ok",
     "timestamp": 1697704419027,
     "user": {
      "displayName": "Hadrien MORAND",
      "userId": "03014692039406239214"
     },
     "user_tz": -120
    },
    "id": "cQp9V7yq4vAk",
    "outputId": "e46faae8-48e4-4206-bd3e-54a10e74c2e7"
   },
   "outputs": [
    {
     "data": {
      "text/html": [
       "<div>\n",
       "<style scoped>\n",
       "    .dataframe tbody tr th:only-of-type {\n",
       "        vertical-align: middle;\n",
       "    }\n",
       "\n",
       "    .dataframe tbody tr th {\n",
       "        vertical-align: top;\n",
       "    }\n",
       "\n",
       "    .dataframe thead th {\n",
       "        text-align: right;\n",
       "    }\n",
       "</style>\n",
       "<table border=\"1\" class=\"dataframe\">\n",
       "  <thead>\n",
       "    <tr style=\"text-align: right;\">\n",
       "      <th></th>\n",
       "      <th>trip_id</th>\n",
       "      <th>customer_id</th>\n",
       "      <th>flight_number</th>\n",
       "      <th>airline_id</th>\n",
       "      <th>aircraft</th>\n",
       "      <th>airport_src</th>\n",
       "      <th>airport_dst</th>\n",
       "      <th>departure_time</th>\n",
       "      <th>departure_date</th>\n",
       "      <th>flight_duration</th>\n",
       "      <th>travel_class</th>\n",
       "      <th>seat_number</th>\n",
       "      <th>price</th>\n",
       "      <th>flight_id</th>\n",
       "    </tr>\n",
       "  </thead>\n",
       "  <tbody>\n",
       "    <tr>\n",
       "      <th>3232</th>\n",
       "      <td>1616</td>\n",
       "      <td>1013129</td>\n",
       "      <td>LH1645</td>\n",
       "      <td>3320</td>\n",
       "      <td>320</td>\n",
       "      <td>345</td>\n",
       "      <td>507</td>\n",
       "      <td>16:45</td>\n",
       "      <td>01/01/2014</td>\n",
       "      <td>01:07</td>\n",
       "      <td>business</td>\n",
       "      <td>16F</td>\n",
       "      <td>445</td>\n",
       "      <td>421</td>\n",
       "    </tr>\n",
       "    <tr>\n",
       "      <th>6945</th>\n",
       "      <td>3472</td>\n",
       "      <td>6371628</td>\n",
       "      <td>FR0845</td>\n",
       "      <td>4296</td>\n",
       "      <td>738</td>\n",
       "      <td>1280</td>\n",
       "      <td>699</td>\n",
       "      <td>08:45</td>\n",
       "      <td>01/01/2014</td>\n",
       "      <td>03:08</td>\n",
       "      <td>business</td>\n",
       "      <td>18C</td>\n",
       "      <td>590</td>\n",
       "      <td>7569</td>\n",
       "    </tr>\n",
       "    <tr>\n",
       "      <th>4277</th>\n",
       "      <td>2138</td>\n",
       "      <td>3079960</td>\n",
       "      <td>US1015</td>\n",
       "      <td>5265</td>\n",
       "      <td>738</td>\n",
       "      <td>3867</td>\n",
       "      <td>3830</td>\n",
       "      <td>10:15</td>\n",
       "      <td>01/01/2016</td>\n",
       "      <td>03:56</td>\n",
       "      <td>economy</td>\n",
       "      <td>9F</td>\n",
       "      <td>249</td>\n",
       "      <td>7822</td>\n",
       "    </tr>\n",
       "    <tr>\n",
       "      <th>1753</th>\n",
       "      <td>876</td>\n",
       "      <td>4303099</td>\n",
       "      <td>PD1930</td>\n",
       "      <td>4021</td>\n",
       "      <td>DH4</td>\n",
       "      <td>144</td>\n",
       "      <td>121</td>\n",
       "      <td>19:30</td>\n",
       "      <td>01/01/2017</td>\n",
       "      <td>01:39</td>\n",
       "      <td>business</td>\n",
       "      <td>26I</td>\n",
       "      <td>483</td>\n",
       "      <td>5315</td>\n",
       "    </tr>\n",
       "    <tr>\n",
       "      <th>3852</th>\n",
       "      <td>1926</td>\n",
       "      <td>3153786</td>\n",
       "      <td>AY1030</td>\n",
       "      <td>2350</td>\n",
       "      <td>ATR</td>\n",
       "      <td>429</td>\n",
       "      <td>421</td>\n",
       "      <td>10:30</td>\n",
       "      <td>01/01/2017</td>\n",
       "      <td>00:56</td>\n",
       "      <td>economy</td>\n",
       "      <td>5H</td>\n",
       "      <td>32</td>\n",
       "      <td>491</td>\n",
       "    </tr>\n",
       "    <tr>\n",
       "      <th>...</th>\n",
       "      <td>...</td>\n",
       "      <td>...</td>\n",
       "      <td>...</td>\n",
       "      <td>...</td>\n",
       "      <td>...</td>\n",
       "      <td>...</td>\n",
       "      <td>...</td>\n",
       "      <td>...</td>\n",
       "      <td>...</td>\n",
       "      <td>...</td>\n",
       "      <td>...</td>\n",
       "      <td>...</td>\n",
       "      <td>...</td>\n",
       "      <td>...</td>\n",
       "    </tr>\n",
       "    <tr>\n",
       "      <th>2368</th>\n",
       "      <td>1184</td>\n",
       "      <td>259043</td>\n",
       "      <td>SI1030</td>\n",
       "      <td>4438</td>\n",
       "      <td>AT4</td>\n",
       "      <td>580</td>\n",
       "      <td>498</td>\n",
       "      <td>10:30</td>\n",
       "      <td>31/12/2018</td>\n",
       "      <td>01:15</td>\n",
       "      <td>business</td>\n",
       "      <td>15J</td>\n",
       "      <td>454</td>\n",
       "      <td>4200</td>\n",
       "    </tr>\n",
       "    <tr>\n",
       "      <th>3662</th>\n",
       "      <td>1831</td>\n",
       "      <td>8544340</td>\n",
       "      <td>KL1545</td>\n",
       "      <td>3090</td>\n",
       "      <td>330</td>\n",
       "      <td>580</td>\n",
       "      <td>3930</td>\n",
       "      <td>15:45</td>\n",
       "      <td>31/12/2018</td>\n",
       "      <td>11:08</td>\n",
       "      <td>business</td>\n",
       "      <td>21E</td>\n",
       "      <td>1169</td>\n",
       "      <td>2106</td>\n",
       "    </tr>\n",
       "    <tr>\n",
       "      <th>3808</th>\n",
       "      <td>1904</td>\n",
       "      <td>2127477</td>\n",
       "      <td>MU1945</td>\n",
       "      <td>1758</td>\n",
       "      <td>319</td>\n",
       "      <td>4381</td>\n",
       "      <td>3406</td>\n",
       "      <td>19:45</td>\n",
       "      <td>31/12/2018</td>\n",
       "      <td>02:40</td>\n",
       "      <td>business</td>\n",
       "      <td>36F</td>\n",
       "      <td>557</td>\n",
       "      <td>3426</td>\n",
       "    </tr>\n",
       "    <tr>\n",
       "      <th>7342</th>\n",
       "      <td>3671</td>\n",
       "      <td>4219748</td>\n",
       "      <td>MU2230</td>\n",
       "      <td>1758</td>\n",
       "      <td>320</td>\n",
       "      <td>3388</td>\n",
       "      <td>6345</td>\n",
       "      <td>22:30</td>\n",
       "      <td>31/12/2018</td>\n",
       "      <td>01:59</td>\n",
       "      <td>business</td>\n",
       "      <td>29J</td>\n",
       "      <td>507</td>\n",
       "      <td>7400</td>\n",
       "    </tr>\n",
       "    <tr>\n",
       "      <th>4498</th>\n",
       "      <td>2249</td>\n",
       "      <td>9354677</td>\n",
       "      <td>UA0830</td>\n",
       "      <td>5209</td>\n",
       "      <td>333</td>\n",
       "      <td>273</td>\n",
       "      <td>340</td>\n",
       "      <td>08:30</td>\n",
       "      <td>31/12/2018</td>\n",
       "      <td>06:32</td>\n",
       "      <td>business</td>\n",
       "      <td>43E</td>\n",
       "      <td>837</td>\n",
       "      <td>1685</td>\n",
       "    </tr>\n",
       "  </tbody>\n",
       "</table>\n",
       "<p>8190 rows × 14 columns</p>\n",
       "</div>"
      ],
      "text/plain": [
       "      trip_id  customer_id flight_number  airline_id aircraft  airport_src   \n",
       "3232     1616      1013129        LH1645        3320      320          345  \\\n",
       "6945     3472      6371628        FR0845        4296      738         1280   \n",
       "4277     2138      3079960        US1015        5265      738         3867   \n",
       "1753      876      4303099        PD1930        4021      DH4          144   \n",
       "3852     1926      3153786        AY1030        2350      ATR          429   \n",
       "...       ...          ...           ...         ...      ...          ...   \n",
       "2368     1184       259043        SI1030        4438      AT4          580   \n",
       "3662     1831      8544340        KL1545        3090      330          580   \n",
       "3808     1904      2127477        MU1945        1758      319         4381   \n",
       "7342     3671      4219748        MU2230        1758      320         3388   \n",
       "4498     2249      9354677        UA0830        5209      333          273   \n",
       "\n",
       "      airport_dst departure_time departure_date flight_duration travel_class   \n",
       "3232          507          16:45     01/01/2014           01:07     business  \\\n",
       "6945          699          08:45     01/01/2014           03:08     business   \n",
       "4277         3830          10:15     01/01/2016           03:56      economy   \n",
       "1753          121          19:30     01/01/2017           01:39     business   \n",
       "3852          421          10:30     01/01/2017           00:56      economy   \n",
       "...           ...            ...            ...             ...          ...   \n",
       "2368          498          10:30     31/12/2018           01:15     business   \n",
       "3662         3930          15:45     31/12/2018           11:08     business   \n",
       "3808         3406          19:45     31/12/2018           02:40     business   \n",
       "7342         6345          22:30     31/12/2018           01:59     business   \n",
       "4498          340          08:30     31/12/2018           06:32     business   \n",
       "\n",
       "     seat_number  price  flight_id  \n",
       "3232         16F    445        421  \n",
       "6945         18C    590       7569  \n",
       "4277          9F    249       7822  \n",
       "1753         26I    483       5315  \n",
       "3852          5H     32        491  \n",
       "...          ...    ...        ...  \n",
       "2368         15J    454       4200  \n",
       "3662         21E   1169       2106  \n",
       "3808         36F    557       3426  \n",
       "7342         29J    507       7400  \n",
       "4498         43E    837       1685  \n",
       "\n",
       "[8190 rows x 14 columns]"
      ]
     },
     "execution_count": 107,
     "metadata": {},
     "output_type": "execute_result"
    }
   ],
   "source": [
    "## Sorting columns by flight number and then date\n",
    "flight_bookings_df.sort_values('flight_number', inplace=True)\n",
    "flight_bookings_df.sort_values('departure_date', inplace=True)\n",
    "## Creating an aggregate column with flight number and departure date (unique combination)\n",
    "flight_bookings_df['flight_id'] = flight_bookings_df['flight_number'] +  flight_bookings_df['departure_date']\n",
    "## Creating a dictionary of ids for every unique combination\n",
    "id_map = {id_: i for i, id_ in enumerate(list(set(flight_bookings_df['flight_id'])))}\n",
    "## Replacing the aggregate value by the id created for each unique combination\n",
    "flight_bookings_df['flight_id'] = flight_bookings_df['flight_id'].map(lambda x: id_map[x])\n",
    "\n",
    "flight_bookings_df\n"
   ]
  },
  {
   "cell_type": "markdown",
   "metadata": {
    "id": "3IGGen0M_QIk"
   },
   "source": [
    "Check that the amount of flight ids that were created match the amount of flights"
   ]
  },
  {
   "cell_type": "code",
   "execution_count": 108,
   "metadata": {
    "colab": {
     "base_uri": "https://localhost:8080/"
    },
    "executionInfo": {
     "elapsed": 4,
     "status": "ok",
     "timestamp": 1697536894392,
     "user": {
      "displayName": "Hadrien MORAND",
      "userId": "03014692039406239214"
     },
     "user_tz": -120
    },
    "id": "NEySLMwZ_BEg",
    "outputId": "628c6aa7-9820-43a3-d5cd-8cd581eada1f"
   },
   "outputs": [
    {
     "data": {
      "text/plain": [
       "True"
      ]
     },
     "execution_count": 108,
     "metadata": {},
     "output_type": "execute_result"
    }
   ],
   "source": [
    "len(id_map) == len(set(flight_bookings_df['flight_id']))\n"
   ]
  },
  {
   "cell_type": "markdown",
   "metadata": {
    "id": "5AxtP3BdDNka"
   },
   "source": [
    "### **Addition of flight_booking_id**"
   ]
  },
  {
   "cell_type": "markdown",
   "metadata": {
    "id": "ZAhvPik1D1Gm"
   },
   "source": [
    "Check that every entry in the bookings is unique."
   ]
  },
  {
   "cell_type": "code",
   "execution_count": 109,
   "metadata": {
    "colab": {
     "base_uri": "https://localhost:8080/"
    },
    "executionInfo": {
     "elapsed": 427,
     "status": "ok",
     "timestamp": 1697536547071,
     "user": {
      "displayName": "Hadrien MORAND",
      "userId": "03014692039406239214"
     },
     "user_tz": -120
    },
    "id": "OcpaCihHDUt8",
    "outputId": "c32fb48c-81ff-4bde-8ceb-947ab3c4c66a"
   },
   "outputs": [
    {
     "data": {
      "text/plain": [
       "True"
      ]
     },
     "execution_count": 109,
     "metadata": {},
     "output_type": "execute_result"
    }
   ],
   "source": [
    "## Checking if every lign in the dataframe has a unique combination of flight_id and trip_id\n",
    "len(list(set(flight_bookings_df['flight_id'].astype(str) + flight_bookings_df['trip_id'].astype(str)))) == len(flight_bookings_df['flight_id'])\n"
   ]
  },
  {
   "cell_type": "markdown",
   "metadata": {
    "id": "dTFGCbyPD5k0"
   },
   "source": [
    "Using the index of the table to create the flight_booking_id"
   ]
  },
  {
   "cell_type": "code",
   "execution_count": 110,
   "metadata": {
    "executionInfo": {
     "elapsed": 383,
     "status": "ok",
     "timestamp": 1697704570715,
     "user": {
      "displayName": "Hadrien MORAND",
      "userId": "03014692039406239214"
     },
     "user_tz": -120
    },
    "id": "B5jL7qw8FRCS"
   },
   "outputs": [],
   "source": [
    "flight_bookings_df.reset_index(inplace=True)\n",
    "flight_bookings_df['flight_booking_id'] = flight_bookings_df.index\n",
    "flight_bookings_df.set_index('index', inplace=True)\n"
   ]
  },
  {
   "cell_type": "code",
   "execution_count": 111,
   "metadata": {
    "executionInfo": {
     "elapsed": 198,
     "status": "ok",
     "timestamp": 1697704591146,
     "user": {
      "displayName": "Hadrien MORAND",
      "userId": "03014692039406239214"
     },
     "user_tz": -120
    },
    "id": "Irtt-pEFD7Fj"
   },
   "outputs": [],
   "source": [
    "flight_bookings_df = flight_bookings_df.sort_values('index').reset_index().drop('index', axis=1)\n"
   ]
  },
  {
   "cell_type": "code",
   "execution_count": 112,
   "metadata": {
    "colab": {
     "base_uri": "https://localhost:8080/",
     "height": 444
    },
    "executionInfo": {
     "elapsed": 326,
     "status": "ok",
     "timestamp": 1697704607701,
     "user": {
      "displayName": "Hadrien MORAND",
      "userId": "03014692039406239214"
     },
     "user_tz": -120
    },
    "id": "UZ2te9P0FCQ-",
    "outputId": "840dc0a5-dfd6-4200-9ace-8488e6cccb04"
   },
   "outputs": [
    {
     "data": {
      "text/html": [
       "<div>\n",
       "<style scoped>\n",
       "    .dataframe tbody tr th:only-of-type {\n",
       "        vertical-align: middle;\n",
       "    }\n",
       "\n",
       "    .dataframe tbody tr th {\n",
       "        vertical-align: top;\n",
       "    }\n",
       "\n",
       "    .dataframe thead th {\n",
       "        text-align: right;\n",
       "    }\n",
       "</style>\n",
       "<table border=\"1\" class=\"dataframe\">\n",
       "  <thead>\n",
       "    <tr style=\"text-align: right;\">\n",
       "      <th></th>\n",
       "      <th>trip_id</th>\n",
       "      <th>customer_id</th>\n",
       "      <th>flight_number</th>\n",
       "      <th>airline_id</th>\n",
       "      <th>aircraft</th>\n",
       "      <th>airport_src</th>\n",
       "      <th>airport_dst</th>\n",
       "      <th>departure_time</th>\n",
       "      <th>departure_date</th>\n",
       "      <th>flight_duration</th>\n",
       "      <th>travel_class</th>\n",
       "      <th>seat_number</th>\n",
       "      <th>price</th>\n",
       "      <th>flight_id</th>\n",
       "      <th>flight_booking_id</th>\n",
       "    </tr>\n",
       "  </thead>\n",
       "  <tbody>\n",
       "    <tr>\n",
       "      <th>0</th>\n",
       "      <td>0</td>\n",
       "      <td>7529424</td>\n",
       "      <td>ME1045</td>\n",
       "      <td>3490</td>\n",
       "      <td>332</td>\n",
       "      <td>270</td>\n",
       "      <td>2177</td>\n",
       "      <td>10:45</td>\n",
       "      <td>08/06/2010</td>\n",
       "      <td>05:02</td>\n",
       "      <td>business</td>\n",
       "      <td>27D</td>\n",
       "      <td>728</td>\n",
       "      <td>5676</td>\n",
       "      <td>1831</td>\n",
       "    </tr>\n",
       "    <tr>\n",
       "      <th>1</th>\n",
       "      <td>0</td>\n",
       "      <td>7529424</td>\n",
       "      <td>ME0715</td>\n",
       "      <td>3490</td>\n",
       "      <td>332</td>\n",
       "      <td>2177</td>\n",
       "      <td>270</td>\n",
       "      <td>07:15</td>\n",
       "      <td>17/06/2010</td>\n",
       "      <td>05:02</td>\n",
       "      <td>business</td>\n",
       "      <td>42A</td>\n",
       "      <td>728</td>\n",
       "      <td>3830</td>\n",
       "      <td>4225</td>\n",
       "    </tr>\n",
       "    <tr>\n",
       "      <th>2</th>\n",
       "      <td>1</td>\n",
       "      <td>7529424</td>\n",
       "      <td>KL1800</td>\n",
       "      <td>3090</td>\n",
       "      <td>330</td>\n",
       "      <td>273</td>\n",
       "      <td>580</td>\n",
       "      <td>18:00</td>\n",
       "      <td>08/06/2016</td>\n",
       "      <td>06:49</td>\n",
       "      <td>economy</td>\n",
       "      <td>8G</td>\n",
       "      <td>457</td>\n",
       "      <td>2547</td>\n",
       "      <td>1840</td>\n",
       "    </tr>\n",
       "    <tr>\n",
       "      <th>3</th>\n",
       "      <td>1</td>\n",
       "      <td>7529424</td>\n",
       "      <td>KL1915</td>\n",
       "      <td>3090</td>\n",
       "      <td>330</td>\n",
       "      <td>580</td>\n",
       "      <td>273</td>\n",
       "      <td>19:15</td>\n",
       "      <td>05/07/2016</td>\n",
       "      <td>06:49</td>\n",
       "      <td>business</td>\n",
       "      <td>36C</td>\n",
       "      <td>857</td>\n",
       "      <td>7369</td>\n",
       "      <td>1117</td>\n",
       "    </tr>\n",
       "    <tr>\n",
       "      <th>4</th>\n",
       "      <td>2</td>\n",
       "      <td>7529424</td>\n",
       "      <td>AZ0745</td>\n",
       "      <td>596</td>\n",
       "      <td>330</td>\n",
       "      <td>273</td>\n",
       "      <td>1555</td>\n",
       "      <td>07:45</td>\n",
       "      <td>11/01/2018</td>\n",
       "      <td>05:29</td>\n",
       "      <td>business</td>\n",
       "      <td>22A</td>\n",
       "      <td>761</td>\n",
       "      <td>6568</td>\n",
       "      <td>2542</td>\n",
       "    </tr>\n",
       "    <tr>\n",
       "      <th>...</th>\n",
       "      <td>...</td>\n",
       "      <td>...</td>\n",
       "      <td>...</td>\n",
       "      <td>...</td>\n",
       "      <td>...</td>\n",
       "      <td>...</td>\n",
       "      <td>...</td>\n",
       "      <td>...</td>\n",
       "      <td>...</td>\n",
       "      <td>...</td>\n",
       "      <td>...</td>\n",
       "      <td>...</td>\n",
       "      <td>...</td>\n",
       "      <td>...</td>\n",
       "      <td>...</td>\n",
       "    </tr>\n",
       "    <tr>\n",
       "      <th>8185</th>\n",
       "      <td>4092</td>\n",
       "      <td>4075623</td>\n",
       "      <td>Y41530</td>\n",
       "      <td>5325</td>\n",
       "      <td>320</td>\n",
       "      <td>3484</td>\n",
       "      <td>1824</td>\n",
       "      <td>15:30</td>\n",
       "      <td>27/06/2018</td>\n",
       "      <td>03:36</td>\n",
       "      <td>economy</td>\n",
       "      <td>6I</td>\n",
       "      <td>225</td>\n",
       "      <td>5322</td>\n",
       "      <td>6946</td>\n",
       "    </tr>\n",
       "    <tr>\n",
       "      <th>8186</th>\n",
       "      <td>4093</td>\n",
       "      <td>4075623</td>\n",
       "      <td>Y40830</td>\n",
       "      <td>5325</td>\n",
       "      <td>320</td>\n",
       "      <td>1804</td>\n",
       "      <td>1847</td>\n",
       "      <td>08:30</td>\n",
       "      <td>13/07/2018</td>\n",
       "      <td>02:52</td>\n",
       "      <td>business</td>\n",
       "      <td>20G</td>\n",
       "      <td>571</td>\n",
       "      <td>4224</td>\n",
       "      <td>3176</td>\n",
       "    </tr>\n",
       "    <tr>\n",
       "      <th>8187</th>\n",
       "      <td>4093</td>\n",
       "      <td>4075623</td>\n",
       "      <td>Y41715</td>\n",
       "      <td>5325</td>\n",
       "      <td>319</td>\n",
       "      <td>1847</td>\n",
       "      <td>1804</td>\n",
       "      <td>17:15</td>\n",
       "      <td>24/07/2018</td>\n",
       "      <td>02:52</td>\n",
       "      <td>economy</td>\n",
       "      <td>5D</td>\n",
       "      <td>171</td>\n",
       "      <td>4850</td>\n",
       "      <td>6161</td>\n",
       "    </tr>\n",
       "    <tr>\n",
       "      <th>8188</th>\n",
       "      <td>4094</td>\n",
       "      <td>4075623</td>\n",
       "      <td>4O0645</td>\n",
       "      <td>17885</td>\n",
       "      <td>320</td>\n",
       "      <td>1824</td>\n",
       "      <td>1800</td>\n",
       "      <td>06:45</td>\n",
       "      <td>20/11/2018</td>\n",
       "      <td>02:05</td>\n",
       "      <td>business</td>\n",
       "      <td>14B</td>\n",
       "      <td>514</td>\n",
       "      <td>3125</td>\n",
       "      <td>5163</td>\n",
       "    </tr>\n",
       "    <tr>\n",
       "      <th>8189</th>\n",
       "      <td>4094</td>\n",
       "      <td>4075623</td>\n",
       "      <td>4O0630</td>\n",
       "      <td>17885</td>\n",
       "      <td>320</td>\n",
       "      <td>1800</td>\n",
       "      <td>1824</td>\n",
       "      <td>06:30</td>\n",
       "      <td>06/12/2018</td>\n",
       "      <td>02:05</td>\n",
       "      <td>economy</td>\n",
       "      <td>7G</td>\n",
       "      <td>114</td>\n",
       "      <td>6000</td>\n",
       "      <td>1488</td>\n",
       "    </tr>\n",
       "  </tbody>\n",
       "</table>\n",
       "<p>8190 rows × 15 columns</p>\n",
       "</div>"
      ],
      "text/plain": [
       "      trip_id  customer_id flight_number  airline_id aircraft  airport_src   \n",
       "0           0      7529424        ME1045        3490      332          270  \\\n",
       "1           0      7529424        ME0715        3490      332         2177   \n",
       "2           1      7529424        KL1800        3090      330          273   \n",
       "3           1      7529424        KL1915        3090      330          580   \n",
       "4           2      7529424        AZ0745         596      330          273   \n",
       "...       ...          ...           ...         ...      ...          ...   \n",
       "8185     4092      4075623        Y41530        5325      320         3484   \n",
       "8186     4093      4075623        Y40830        5325      320         1804   \n",
       "8187     4093      4075623        Y41715        5325      319         1847   \n",
       "8188     4094      4075623        4O0645       17885      320         1824   \n",
       "8189     4094      4075623        4O0630       17885      320         1800   \n",
       "\n",
       "      airport_dst departure_time departure_date flight_duration travel_class   \n",
       "0            2177          10:45     08/06/2010           05:02     business  \\\n",
       "1             270          07:15     17/06/2010           05:02     business   \n",
       "2             580          18:00     08/06/2016           06:49      economy   \n",
       "3             273          19:15     05/07/2016           06:49     business   \n",
       "4            1555          07:45     11/01/2018           05:29     business   \n",
       "...           ...            ...            ...             ...          ...   \n",
       "8185         1824          15:30     27/06/2018           03:36      economy   \n",
       "8186         1847          08:30     13/07/2018           02:52     business   \n",
       "8187         1804          17:15     24/07/2018           02:52      economy   \n",
       "8188         1800          06:45     20/11/2018           02:05     business   \n",
       "8189         1824          06:30     06/12/2018           02:05      economy   \n",
       "\n",
       "     seat_number  price  flight_id  flight_booking_id  \n",
       "0            27D    728       5676               1831  \n",
       "1            42A    728       3830               4225  \n",
       "2             8G    457       2547               1840  \n",
       "3            36C    857       7369               1117  \n",
       "4            22A    761       6568               2542  \n",
       "...          ...    ...        ...                ...  \n",
       "8185          6I    225       5322               6946  \n",
       "8186         20G    571       4224               3176  \n",
       "8187          5D    171       4850               6161  \n",
       "8188         14B    514       3125               5163  \n",
       "8189          7G    114       6000               1488  \n",
       "\n",
       "[8190 rows x 15 columns]"
      ]
     },
     "execution_count": 112,
     "metadata": {},
     "output_type": "execute_result"
    }
   ],
   "source": [
    "flight_bookings_df\n"
   ]
  },
  {
   "cell_type": "markdown",
   "metadata": {
    "id": "E-6xAg_h3aUu"
   },
   "source": [
    "**Export of correct flight_bookings_table**"
   ]
  },
  {
   "cell_type": "code",
   "execution_count": 113,
   "metadata": {
    "executionInfo": {
     "elapsed": 3,
     "status": "ok",
     "timestamp": 1697704684203,
     "user": {
      "displayName": "Hadrien MORAND",
      "userId": "03014692039406239214"
     },
     "user_tz": -120
    },
    "id": "WRB_KY5w3fvW"
   },
   "outputs": [],
   "source": [
    "## Trimming irrelevant columns\n",
    "flight_bookings_trimmed_df = flight_bookings_df[['flight_booking_id', 'flight_id', 'trip_id',\n",
    "                                                 'seat_number', 'price', 'travel_class']]\n",
    "## Renaming seat_number to seat\n",
    "flight_bookings_trimmed_df = flight_bookings_trimmed_df.rename(columns={'seat_number': 'seat'})\n",
    "##\n",
    "flight_bookings_trimmed_df.to_csv('Datasets/cleaned/flight_bookings.csv', sep='\\t', index=False)\n"
   ]
  },
  {
   "cell_type": "markdown",
   "metadata": {
    "id": "20H-g4383Be2"
   },
   "source": [
    "## **Flights**"
   ]
  },
  {
   "cell_type": "markdown",
   "metadata": {
    "id": "3ArxfPFtewFl"
   },
   "source": [
    "**Selecting the correct columns for the flights table.**"
   ]
  },
  {
   "cell_type": "code",
   "execution_count": 114,
   "metadata": {
    "executionInfo": {
     "elapsed": 721,
     "status": "ok",
     "timestamp": 1697712135073,
     "user": {
      "displayName": "Hadrien MORAND",
      "userId": "03014692039406239214"
     },
     "user_tz": -120
    },
    "id": "jx_TwrC_3DJH"
   },
   "outputs": [],
   "source": [
    "flights_df = flight_bookings_df[['flight_id', 'flight_number', 'flight_duration',\n",
    "                                 'departure_time', 'departure_date', 'aircraft',\n",
    "                                 'airline_id', 'airport_src', 'airport_dst']]\n"
   ]
  },
  {
   "cell_type": "markdown",
   "metadata": {
    "id": "_w7M_fO9hKtR"
   },
   "source": [
    "**Adding the aircraft_id column to flights**"
   ]
  },
  {
   "cell_type": "code",
   "execution_count": 115,
   "metadata": {
    "colab": {
     "base_uri": "https://localhost:8080/",
     "height": 444
    },
    "executionInfo": {
     "elapsed": 347,
     "status": "ok",
     "timestamp": 1697712136510,
     "user": {
      "displayName": "Hadrien MORAND",
      "userId": "03014692039406239214"
     },
     "user_tz": -120
    },
    "id": "IRyhx76MeutB",
    "outputId": "3109ece5-56ed-4ba0-8d07-07c5f71f5bf0"
   },
   "outputs": [
    {
     "data": {
      "text/html": [
       "<div>\n",
       "<style scoped>\n",
       "    .dataframe tbody tr th:only-of-type {\n",
       "        vertical-align: middle;\n",
       "    }\n",
       "\n",
       "    .dataframe tbody tr th {\n",
       "        vertical-align: top;\n",
       "    }\n",
       "\n",
       "    .dataframe thead th {\n",
       "        text-align: right;\n",
       "    }\n",
       "</style>\n",
       "<table border=\"1\" class=\"dataframe\">\n",
       "  <thead>\n",
       "    <tr style=\"text-align: right;\">\n",
       "      <th></th>\n",
       "      <th>flight_id</th>\n",
       "      <th>flight_number</th>\n",
       "      <th>flight_duration</th>\n",
       "      <th>departure_time</th>\n",
       "      <th>departure_date</th>\n",
       "      <th>aircraft</th>\n",
       "      <th>airline_id</th>\n",
       "      <th>airport_src</th>\n",
       "      <th>airport_dst</th>\n",
       "      <th>aircraft_id</th>\n",
       "      <th>iata_code</th>\n",
       "    </tr>\n",
       "  </thead>\n",
       "  <tbody>\n",
       "    <tr>\n",
       "      <th>0</th>\n",
       "      <td>5676</td>\n",
       "      <td>ME1045</td>\n",
       "      <td>05:02</td>\n",
       "      <td>10:45</td>\n",
       "      <td>08/06/2010</td>\n",
       "      <td>332</td>\n",
       "      <td>3490</td>\n",
       "      <td>270</td>\n",
       "      <td>2177</td>\n",
       "      <td>19</td>\n",
       "      <td>332</td>\n",
       "    </tr>\n",
       "    <tr>\n",
       "      <th>1</th>\n",
       "      <td>3830</td>\n",
       "      <td>ME0715</td>\n",
       "      <td>05:02</td>\n",
       "      <td>07:15</td>\n",
       "      <td>17/06/2010</td>\n",
       "      <td>332</td>\n",
       "      <td>3490</td>\n",
       "      <td>2177</td>\n",
       "      <td>270</td>\n",
       "      <td>19</td>\n",
       "      <td>332</td>\n",
       "    </tr>\n",
       "    <tr>\n",
       "      <th>2</th>\n",
       "      <td>116</td>\n",
       "      <td>W31500</td>\n",
       "      <td>06:07</td>\n",
       "      <td>15:00</td>\n",
       "      <td>17/02/2018</td>\n",
       "      <td>332</td>\n",
       "      <td>20976</td>\n",
       "      <td>273</td>\n",
       "      <td>813</td>\n",
       "      <td>19</td>\n",
       "      <td>332</td>\n",
       "    </tr>\n",
       "    <tr>\n",
       "      <th>3</th>\n",
       "      <td>5052</td>\n",
       "      <td>W31015</td>\n",
       "      <td>06:07</td>\n",
       "      <td>10:15</td>\n",
       "      <td>05/03/2018</td>\n",
       "      <td>332</td>\n",
       "      <td>20976</td>\n",
       "      <td>813</td>\n",
       "      <td>273</td>\n",
       "      <td>19</td>\n",
       "      <td>332</td>\n",
       "    </tr>\n",
       "    <tr>\n",
       "      <th>4</th>\n",
       "      <td>4124</td>\n",
       "      <td>WY1915</td>\n",
       "      <td>07:26</td>\n",
       "      <td>19:15</td>\n",
       "      <td>20/12/2018</td>\n",
       "      <td>332</td>\n",
       "      <td>3778</td>\n",
       "      <td>1382</td>\n",
       "      <td>2194</td>\n",
       "      <td>19</td>\n",
       "      <td>332</td>\n",
       "    </tr>\n",
       "    <tr>\n",
       "      <th>...</th>\n",
       "      <td>...</td>\n",
       "      <td>...</td>\n",
       "      <td>...</td>\n",
       "      <td>...</td>\n",
       "      <td>...</td>\n",
       "      <td>...</td>\n",
       "      <td>...</td>\n",
       "      <td>...</td>\n",
       "      <td>...</td>\n",
       "      <td>...</td>\n",
       "      <td>...</td>\n",
       "    </tr>\n",
       "    <tr>\n",
       "      <th>8199</th>\n",
       "      <td>4724</td>\n",
       "      <td>Q91730</td>\n",
       "      <td>00:35</td>\n",
       "      <td>17:30</td>\n",
       "      <td>04/06/2017</td>\n",
       "      <td>PAG</td>\n",
       "      <td>11838</td>\n",
       "      <td>7255</td>\n",
       "      <td>106</td>\n",
       "      <td>228</td>\n",
       "      <td>PAG</td>\n",
       "    </tr>\n",
       "    <tr>\n",
       "      <th>8200</th>\n",
       "      <td>7440</td>\n",
       "      <td>7H1530</td>\n",
       "      <td>00:37</td>\n",
       "      <td>15:30</td>\n",
       "      <td>04/12/2014</td>\n",
       "      <td>PAG</td>\n",
       "      <td>16726</td>\n",
       "      <td>3615</td>\n",
       "      <td>7188</td>\n",
       "      <td>228</td>\n",
       "      <td>PAG</td>\n",
       "    </tr>\n",
       "    <tr>\n",
       "      <th>8201</th>\n",
       "      <td>1822</td>\n",
       "      <td>TG1545</td>\n",
       "      <td>05:40</td>\n",
       "      <td>15:45</td>\n",
       "      <td>30/10/2018</td>\n",
       "      <td>380</td>\n",
       "      <td>4940</td>\n",
       "      <td>3992</td>\n",
       "      <td>3885</td>\n",
       "      <td>32</td>\n",
       "      <td>380</td>\n",
       "    </tr>\n",
       "    <tr>\n",
       "      <th>8202</th>\n",
       "      <td>6840</td>\n",
       "      <td>TG1115</td>\n",
       "      <td>05:40</td>\n",
       "      <td>11:15</td>\n",
       "      <td>22/11/2018</td>\n",
       "      <td>380</td>\n",
       "      <td>4940</td>\n",
       "      <td>3885</td>\n",
       "      <td>3992</td>\n",
       "      <td>32</td>\n",
       "      <td>380</td>\n",
       "    </tr>\n",
       "    <tr>\n",
       "      <th>8203</th>\n",
       "      <td>6436</td>\n",
       "      <td>8E1045</td>\n",
       "      <td>00:37</td>\n",
       "      <td>10:45</td>\n",
       "      <td>23/11/2014</td>\n",
       "      <td>PA2</td>\n",
       "      <td>1472</td>\n",
       "      <td>7188</td>\n",
       "      <td>3615</td>\n",
       "      <td>226</td>\n",
       "      <td>PA2</td>\n",
       "    </tr>\n",
       "  </tbody>\n",
       "</table>\n",
       "<p>8204 rows × 11 columns</p>\n",
       "</div>"
      ],
      "text/plain": [
       "      flight_id flight_number flight_duration departure_time departure_date   \n",
       "0          5676        ME1045           05:02          10:45     08/06/2010  \\\n",
       "1          3830        ME0715           05:02          07:15     17/06/2010   \n",
       "2           116        W31500           06:07          15:00     17/02/2018   \n",
       "3          5052        W31015           06:07          10:15     05/03/2018   \n",
       "4          4124        WY1915           07:26          19:15     20/12/2018   \n",
       "...         ...           ...             ...            ...            ...   \n",
       "8199       4724        Q91730           00:35          17:30     04/06/2017   \n",
       "8200       7440        7H1530           00:37          15:30     04/12/2014   \n",
       "8201       1822        TG1545           05:40          15:45     30/10/2018   \n",
       "8202       6840        TG1115           05:40          11:15     22/11/2018   \n",
       "8203       6436        8E1045           00:37          10:45     23/11/2014   \n",
       "\n",
       "     aircraft  airline_id  airport_src  airport_dst  aircraft_id iata_code  \n",
       "0         332        3490          270         2177           19       332  \n",
       "1         332        3490         2177          270           19       332  \n",
       "2         332       20976          273          813           19       332  \n",
       "3         332       20976          813          273           19       332  \n",
       "4         332        3778         1382         2194           19       332  \n",
       "...       ...         ...          ...          ...          ...       ...  \n",
       "8199      PAG       11838         7255          106          228       PAG  \n",
       "8200      PAG       16726         3615         7188          228       PAG  \n",
       "8201      380        4940         3992         3885           32       380  \n",
       "8202      380        4940         3885         3992           32       380  \n",
       "8203      PA2        1472         7188         3615          226       PA2  \n",
       "\n",
       "[8204 rows x 11 columns]"
      ]
     },
     "execution_count": 115,
     "metadata": {},
     "output_type": "execute_result"
    }
   ],
   "source": [
    "## Adding the aicraft_id to the flights df\n",
    "flights_df = flights_df.merge(aircrafts_df[['aircraft_id', 'iata_code']],\n",
    "                 how='inner',\n",
    "                 left_on='aircraft',\n",
    "                 right_on='iata_code')\n",
    "\n",
    "flights_df\n"
   ]
  },
  {
   "cell_type": "markdown",
   "metadata": {
    "id": "QRNETA-8gMPP"
   },
   "source": [
    "**Dropping the aircraft and aircraft_iata columns**"
   ]
  },
  {
   "cell_type": "code",
   "execution_count": 116,
   "metadata": {
    "colab": {
     "base_uri": "https://localhost:8080/",
     "height": 444
    },
    "executionInfo": {
     "elapsed": 414,
     "status": "ok",
     "timestamp": 1697711803579,
     "user": {
      "displayName": "Hadrien MORAND",
      "userId": "03014692039406239214"
     },
     "user_tz": -120
    },
    "id": "WyPeS1IjKbgD",
    "outputId": "8d3a5945-5f6a-4514-9eaf-87c5bc2e0f9d"
   },
   "outputs": [],
   "source": [
    "flights_df = flights_df.drop(['iata_code', 'aircraft'], axis=1)"
   ]
  },
  {
   "cell_type": "code",
   "execution_count": 117,
   "metadata": {},
   "outputs": [
    {
     "data": {
      "text/html": [
       "<div>\n",
       "<style scoped>\n",
       "    .dataframe tbody tr th:only-of-type {\n",
       "        vertical-align: middle;\n",
       "    }\n",
       "\n",
       "    .dataframe tbody tr th {\n",
       "        vertical-align: top;\n",
       "    }\n",
       "\n",
       "    .dataframe thead th {\n",
       "        text-align: right;\n",
       "    }\n",
       "</style>\n",
       "<table border=\"1\" class=\"dataframe\">\n",
       "  <thead>\n",
       "    <tr style=\"text-align: right;\">\n",
       "      <th></th>\n",
       "      <th>flight_id</th>\n",
       "      <th>flight_number</th>\n",
       "      <th>flight_duration</th>\n",
       "      <th>departure_time</th>\n",
       "      <th>departure_date</th>\n",
       "      <th>airline_id</th>\n",
       "      <th>airport_src</th>\n",
       "      <th>airport_dst</th>\n",
       "      <th>aircraft_id</th>\n",
       "    </tr>\n",
       "  </thead>\n",
       "  <tbody>\n",
       "    <tr>\n",
       "      <th>0</th>\n",
       "      <td>5676</td>\n",
       "      <td>ME1045</td>\n",
       "      <td>05:02</td>\n",
       "      <td>10:45</td>\n",
       "      <td>08/06/2010</td>\n",
       "      <td>3490</td>\n",
       "      <td>270</td>\n",
       "      <td>2177</td>\n",
       "      <td>19</td>\n",
       "    </tr>\n",
       "    <tr>\n",
       "      <th>1</th>\n",
       "      <td>3830</td>\n",
       "      <td>ME0715</td>\n",
       "      <td>05:02</td>\n",
       "      <td>07:15</td>\n",
       "      <td>17/06/2010</td>\n",
       "      <td>3490</td>\n",
       "      <td>2177</td>\n",
       "      <td>270</td>\n",
       "      <td>19</td>\n",
       "    </tr>\n",
       "    <tr>\n",
       "      <th>2</th>\n",
       "      <td>116</td>\n",
       "      <td>W31500</td>\n",
       "      <td>06:07</td>\n",
       "      <td>15:00</td>\n",
       "      <td>17/02/2018</td>\n",
       "      <td>20976</td>\n",
       "      <td>273</td>\n",
       "      <td>813</td>\n",
       "      <td>19</td>\n",
       "    </tr>\n",
       "    <tr>\n",
       "      <th>3</th>\n",
       "      <td>5052</td>\n",
       "      <td>W31015</td>\n",
       "      <td>06:07</td>\n",
       "      <td>10:15</td>\n",
       "      <td>05/03/2018</td>\n",
       "      <td>20976</td>\n",
       "      <td>813</td>\n",
       "      <td>273</td>\n",
       "      <td>19</td>\n",
       "    </tr>\n",
       "    <tr>\n",
       "      <th>4</th>\n",
       "      <td>4124</td>\n",
       "      <td>WY1915</td>\n",
       "      <td>07:26</td>\n",
       "      <td>19:15</td>\n",
       "      <td>20/12/2018</td>\n",
       "      <td>3778</td>\n",
       "      <td>1382</td>\n",
       "      <td>2194</td>\n",
       "      <td>19</td>\n",
       "    </tr>\n",
       "    <tr>\n",
       "      <th>...</th>\n",
       "      <td>...</td>\n",
       "      <td>...</td>\n",
       "      <td>...</td>\n",
       "      <td>...</td>\n",
       "      <td>...</td>\n",
       "      <td>...</td>\n",
       "      <td>...</td>\n",
       "      <td>...</td>\n",
       "      <td>...</td>\n",
       "    </tr>\n",
       "    <tr>\n",
       "      <th>8199</th>\n",
       "      <td>4724</td>\n",
       "      <td>Q91730</td>\n",
       "      <td>00:35</td>\n",
       "      <td>17:30</td>\n",
       "      <td>04/06/2017</td>\n",
       "      <td>11838</td>\n",
       "      <td>7255</td>\n",
       "      <td>106</td>\n",
       "      <td>228</td>\n",
       "    </tr>\n",
       "    <tr>\n",
       "      <th>8200</th>\n",
       "      <td>7440</td>\n",
       "      <td>7H1530</td>\n",
       "      <td>00:37</td>\n",
       "      <td>15:30</td>\n",
       "      <td>04/12/2014</td>\n",
       "      <td>16726</td>\n",
       "      <td>3615</td>\n",
       "      <td>7188</td>\n",
       "      <td>228</td>\n",
       "    </tr>\n",
       "    <tr>\n",
       "      <th>8201</th>\n",
       "      <td>1822</td>\n",
       "      <td>TG1545</td>\n",
       "      <td>05:40</td>\n",
       "      <td>15:45</td>\n",
       "      <td>30/10/2018</td>\n",
       "      <td>4940</td>\n",
       "      <td>3992</td>\n",
       "      <td>3885</td>\n",
       "      <td>32</td>\n",
       "    </tr>\n",
       "    <tr>\n",
       "      <th>8202</th>\n",
       "      <td>6840</td>\n",
       "      <td>TG1115</td>\n",
       "      <td>05:40</td>\n",
       "      <td>11:15</td>\n",
       "      <td>22/11/2018</td>\n",
       "      <td>4940</td>\n",
       "      <td>3885</td>\n",
       "      <td>3992</td>\n",
       "      <td>32</td>\n",
       "    </tr>\n",
       "    <tr>\n",
       "      <th>8203</th>\n",
       "      <td>6436</td>\n",
       "      <td>8E1045</td>\n",
       "      <td>00:37</td>\n",
       "      <td>10:45</td>\n",
       "      <td>23/11/2014</td>\n",
       "      <td>1472</td>\n",
       "      <td>7188</td>\n",
       "      <td>3615</td>\n",
       "      <td>226</td>\n",
       "    </tr>\n",
       "  </tbody>\n",
       "</table>\n",
       "<p>8204 rows × 9 columns</p>\n",
       "</div>"
      ],
      "text/plain": [
       "      flight_id flight_number flight_duration departure_time departure_date   \n",
       "0          5676        ME1045           05:02          10:45     08/06/2010  \\\n",
       "1          3830        ME0715           05:02          07:15     17/06/2010   \n",
       "2           116        W31500           06:07          15:00     17/02/2018   \n",
       "3          5052        W31015           06:07          10:15     05/03/2018   \n",
       "4          4124        WY1915           07:26          19:15     20/12/2018   \n",
       "...         ...           ...             ...            ...            ...   \n",
       "8199       4724        Q91730           00:35          17:30     04/06/2017   \n",
       "8200       7440        7H1530           00:37          15:30     04/12/2014   \n",
       "8201       1822        TG1545           05:40          15:45     30/10/2018   \n",
       "8202       6840        TG1115           05:40          11:15     22/11/2018   \n",
       "8203       6436        8E1045           00:37          10:45     23/11/2014   \n",
       "\n",
       "      airline_id  airport_src  airport_dst  aircraft_id  \n",
       "0           3490          270         2177           19  \n",
       "1           3490         2177          270           19  \n",
       "2          20976          273          813           19  \n",
       "3          20976          813          273           19  \n",
       "4           3778         1382         2194           19  \n",
       "...          ...          ...          ...          ...  \n",
       "8199       11838         7255          106          228  \n",
       "8200       16726         3615         7188          228  \n",
       "8201        4940         3992         3885           32  \n",
       "8202        4940         3885         3992           32  \n",
       "8203        1472         7188         3615          226  \n",
       "\n",
       "[8204 rows x 9 columns]"
      ]
     },
     "execution_count": 117,
     "metadata": {},
     "output_type": "execute_result"
    }
   ],
   "source": [
    "flights_df"
   ]
  },
  {
   "cell_type": "markdown",
   "metadata": {
    "id": "xyjaQV3BgrC9"
   },
   "source": [
    "**Exporting the corrected flights into a CSV**"
   ]
  },
  {
   "cell_type": "code",
   "execution_count": 118,
   "metadata": {
    "executionInfo": {
     "elapsed": 201,
     "status": "ok",
     "timestamp": 1697711895084,
     "user": {
      "displayName": "Hadrien MORAND",
      "userId": "03014692039406239214"
     },
     "user_tz": -120
    },
    "id": "lM0TYTcwgjJ_"
   },
   "outputs": [],
   "source": [
    "flights_df.to_csv('Datasets/cleaned/flights.csv', sep='\\t', index=False)\n"
   ]
  }
 ],
 "metadata": {
  "colab": {
   "collapsed_sections": [
    "8T_n6SAA-FSq"
   ],
   "provenance": [],
   "toc_visible": true
  },
  "kernelspec": {
   "display_name": "Python 3 (ipykernel)",
   "language": "python",
   "name": "python3"
  },
  "language_info": {
   "codemirror_mode": {
    "name": "ipython",
    "version": 3
   },
   "file_extension": ".py",
   "mimetype": "text/x-python",
   "name": "python",
   "nbconvert_exporter": "python",
   "pygments_lexer": "ipython3",
   "version": "3.9.12"
  },
  "toc": {
   "base_numbering": 1,
   "nav_menu": {},
   "number_sections": true,
   "sideBar": true,
   "skip_h1_title": false,
   "title_cell": "Table of Contents",
   "title_sidebar": "Contents",
   "toc_cell": false,
   "toc_position": {},
   "toc_section_display": true,
   "toc_window_display": false
  }
 },
 "nbformat": 4,
 "nbformat_minor": 1
}
